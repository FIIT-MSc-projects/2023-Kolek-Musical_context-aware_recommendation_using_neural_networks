{
 "cells": [
  {
   "cell_type": "code",
   "execution_count": 1,
   "metadata": {
    "pycharm": {
     "name": "#%%\n"
    }
   },
   "outputs": [],
   "source": [
    "import spotipy\n",
    "from spotipy.oauth2 import SpotifyClientCredentials\n",
    "import numpy as np\n",
    "import pandas as pd\n",
    "import matplotlib.pyplot as plt\n",
    "import seaborn as sns\n",
    "import os\n",
    "import functools as ft\n",
    "import plotly.express as px\n",
    "%matplotlib inline\n",
    "from collections import defaultdict\n",
    "CLIENT_ID = \"c84348e3a90647b1a6a42464861e7ce1\"\n",
    "CLIENT_SECRET = \"62f619cda51b4a7b8e33e757fe18480c\"\n"
   ]
  },
  {
   "cell_type": "code",
   "execution_count": 2,
   "metadata": {
    "pycharm": {
     "name": "#%%\n"
    }
   },
   "outputs": [],
   "source": [
    "sp = spotipy.Spotify(auth_manager=SpotifyClientCredentials(client_id=CLIENT_ID,\n",
    "                                                           client_secret=CLIENT_SECRET))"
   ]
  },
  {
   "cell_type": "code",
   "execution_count": 3,
   "metadata": {
    "pycharm": {
     "name": "#%%\n"
    }
   },
   "outputs": [],
   "source": [
    "id_information = pd.read_csv('../data/id_information.csv', sep='\\t')\n",
    "id_tags = pd.read_csv('../data/id_tags.csv', sep='\\t')\n",
    "id_genres = pd.read_csv('../data/id_genres.csv', sep='\\t')\n",
    "id_metadata = pd.read_csv('../data/id_metadata.csv', sep='\\t')\n",
    "id_lang = pd.read_csv('../data/id_lang.csv', sep='\\t')"
   ]
  },
  {
   "cell_type": "code",
   "execution_count": 4,
   "metadata": {
    "pycharm": {
     "name": "#%%\n"
    }
   },
   "outputs": [],
   "source": [
    "def full_info_to_csv():\n",
    "    \"\"\"\n",
    "    This function creates csv of metadata for songs by spotify API.\n",
    "    The function uses Spotipy to fetch audio features and metadata for the specified song.\n",
    "    \"\"\"\n",
    "    info_from_spotify = pd.DataFrame()\n",
    "#     for index, row in id_metadata.iterrows():\n",
    "        # print(row['spotify_id'])\n",
    "#         print(index)\n",
    "#         info_from_spotify.append(sp.audio_features(row['spotify_id']))\n",
    "        # print(sp.audio_features(row['spotify_id']))\n",
    "\n",
    "    dfs = [id_information, id_tags, id_genres, id_lang]\n",
    "    info_from_spotify.to_csv('../data/info_from_spotify.csv')\n",
    "    # full_info = ft.reduce(lambda left, right: pd.merge(left, right, on='id'), dfs)\n",
    "    # full_info.to_csv('../data/full_info.csv')\n",
    "    # return pd.DataFrame(song_data)\n"
   ]
  },
  {
   "cell_type": "code",
   "execution_count": 5,
   "metadata": {
    "pycharm": {
     "name": "#%%\n"
    }
   },
   "outputs": [],
   "source": [
    "# full_info_to_csv()"
   ]
  },
  {
   "cell_type": "markdown",
   "metadata": {},
   "source": [
    "## Songs through years"
   ]
  },
  {
   "cell_type": "code",
   "execution_count": 6,
   "metadata": {
    "pycharm": {
     "name": "#%%\n"
    },
    "scrolled": true
   },
   "outputs": [
    {
     "data": {
      "text/plain": [
       "array([2009, 2013, 1974, 2017, 2010, 2016, 2008, 2018, 2012, 2019, 2011,\n",
       "       2007, 2005, 2004, 1998, 2015, 1996, 1985, 2014, 1997, 2003, 1984,\n",
       "       1969, 1977, 2001, 2006, 2000, 2002, 1986, 1991, 1994, 1958, 1960,\n",
       "       1976, 1995, 1975, 1990, 1983, 1989, 1999, 1981, 1971, 1963, 1979,\n",
       "       1988, 1992, 1978, 1970, 1987, 1972, 1993, 1980, 1956, 1967, 1964,\n",
       "       1973, 1962, 1982, 1966, 1933, 1968, 1959, 1955, 1965, 1935, 1961,\n",
       "       1957, 1954, 1928, 1936, 1013, 1937, 1949, 1929, 1938, 1951, 1953,\n",
       "       1926, 1950, 1945, 1948, 1943, 1899, 1952, 1944, 1900, 1930, 1923])"
      ]
     },
     "execution_count": 6,
     "metadata": {},
     "output_type": "execute_result"
    }
   ],
   "source": [
    "id_metadata.release.unique()"
   ]
  },
  {
   "cell_type": "code",
   "execution_count": 7,
   "metadata": {
    "pycharm": {
     "name": "#%%\n"
    }
   },
   "outputs": [
    {
     "data": {
      "text/html": [
       "<div>\n",
       "<style scoped>\n",
       "    .dataframe tbody tr th:only-of-type {\n",
       "        vertical-align: middle;\n",
       "    }\n",
       "\n",
       "    .dataframe tbody tr th {\n",
       "        vertical-align: top;\n",
       "    }\n",
       "\n",
       "    .dataframe thead th {\n",
       "        text-align: right;\n",
       "    }\n",
       "</style>\n",
       "<table border=\"1\" class=\"dataframe\">\n",
       "  <thead>\n",
       "    <tr style=\"text-align: right;\">\n",
       "      <th></th>\n",
       "      <th>id</th>\n",
       "      <th>spotify_id</th>\n",
       "      <th>popularity</th>\n",
       "      <th>release</th>\n",
       "      <th>danceability</th>\n",
       "      <th>energy</th>\n",
       "      <th>key</th>\n",
       "      <th>mode</th>\n",
       "      <th>valence</th>\n",
       "      <th>tempo</th>\n",
       "      <th>duration_ms</th>\n",
       "    </tr>\n",
       "  </thead>\n",
       "  <tbody>\n",
       "    <tr>\n",
       "      <th>10350</th>\n",
       "      <td>5pClePd8cdUOGQe2</td>\n",
       "      <td>45LCjFwH5veyV1twkPFKVO</td>\n",
       "      <td>35.0</td>\n",
       "      <td>1013</td>\n",
       "      <td>0.595</td>\n",
       "      <td>0.761</td>\n",
       "      <td>7.0</td>\n",
       "      <td>0.0</td>\n",
       "      <td>0.868</td>\n",
       "      <td>166.503</td>\n",
       "      <td>268507</td>\n",
       "    </tr>\n",
       "    <tr>\n",
       "      <th>13762</th>\n",
       "      <td>7oBqYSOUt2PehcJd</td>\n",
       "      <td>0ytnXiwu42kNYnBvS48nc5</td>\n",
       "      <td>27.0</td>\n",
       "      <td>1013</td>\n",
       "      <td>0.443</td>\n",
       "      <td>0.688</td>\n",
       "      <td>7.0</td>\n",
       "      <td>1.0</td>\n",
       "      <td>0.717</td>\n",
       "      <td>95.729</td>\n",
       "      <td>296680</td>\n",
       "    </tr>\n",
       "    <tr>\n",
       "      <th>83679</th>\n",
       "      <td>lUJHN9keOtaNGCYK</td>\n",
       "      <td>5sFEbn2q1dI0xO06BKkcH1</td>\n",
       "      <td>40.0</td>\n",
       "      <td>1013</td>\n",
       "      <td>0.639</td>\n",
       "      <td>0.512</td>\n",
       "      <td>8.0</td>\n",
       "      <td>0.0</td>\n",
       "      <td>0.598</td>\n",
       "      <td>127.451</td>\n",
       "      <td>299880</td>\n",
       "    </tr>\n",
       "  </tbody>\n",
       "</table>\n",
       "</div>"
      ],
      "text/plain": [
       "                     id              spotify_id  popularity  release  \\\n",
       "10350  5pClePd8cdUOGQe2  45LCjFwH5veyV1twkPFKVO        35.0     1013   \n",
       "13762  7oBqYSOUt2PehcJd  0ytnXiwu42kNYnBvS48nc5        27.0     1013   \n",
       "83679  lUJHN9keOtaNGCYK  5sFEbn2q1dI0xO06BKkcH1        40.0     1013   \n",
       "\n",
       "       danceability  energy  key  mode  valence    tempo  duration_ms  \n",
       "10350         0.595   0.761  7.0   0.0    0.868  166.503       268507  \n",
       "13762         0.443   0.688  7.0   1.0    0.717   95.729       296680  \n",
       "83679         0.639   0.512  8.0   0.0    0.598  127.451       299880  "
      ]
     },
     "execution_count": 7,
     "metadata": {},
     "output_type": "execute_result"
    }
   ],
   "source": [
    "# chybne data Los Espiritus 1013 je 2013\n",
    "id_metadata.loc[id_metadata['release'] == 1013]"
   ]
  },
  {
   "cell_type": "code",
   "execution_count": 8,
   "metadata": {
    "pycharm": {
     "name": "#%%\n"
    }
   },
   "outputs": [
    {
     "data": {
      "text/html": [
       "<div>\n",
       "<style scoped>\n",
       "    .dataframe tbody tr th:only-of-type {\n",
       "        vertical-align: middle;\n",
       "    }\n",
       "\n",
       "    .dataframe tbody tr th {\n",
       "        vertical-align: top;\n",
       "    }\n",
       "\n",
       "    .dataframe thead th {\n",
       "        text-align: right;\n",
       "    }\n",
       "</style>\n",
       "<table border=\"1\" class=\"dataframe\">\n",
       "  <thead>\n",
       "    <tr style=\"text-align: right;\">\n",
       "      <th></th>\n",
       "      <th>id</th>\n",
       "      <th>spotify_id</th>\n",
       "      <th>popularity</th>\n",
       "      <th>release</th>\n",
       "      <th>danceability</th>\n",
       "      <th>energy</th>\n",
       "      <th>key</th>\n",
       "      <th>mode</th>\n",
       "      <th>valence</th>\n",
       "      <th>tempo</th>\n",
       "      <th>duration_ms</th>\n",
       "    </tr>\n",
       "  </thead>\n",
       "  <tbody>\n",
       "    <tr>\n",
       "      <th>62143</th>\n",
       "      <td>ZEuwJ4wJH5GW6ay9</td>\n",
       "      <td>09sKCJcVUC24vgpaamdkrj</td>\n",
       "      <td>30.0</td>\n",
       "      <td>1899</td>\n",
       "      <td>0.548</td>\n",
       "      <td>0.335</td>\n",
       "      <td>9.0</td>\n",
       "      <td>0.0</td>\n",
       "      <td>0.656</td>\n",
       "      <td>98.688</td>\n",
       "      <td>162067</td>\n",
       "    </tr>\n",
       "  </tbody>\n",
       "</table>\n",
       "</div>"
      ],
      "text/plain": [
       "                     id              spotify_id  popularity  release  \\\n",
       "62143  ZEuwJ4wJH5GW6ay9  09sKCJcVUC24vgpaamdkrj        30.0     1899   \n",
       "\n",
       "       danceability  energy  key  mode  valence   tempo  duration_ms  \n",
       "62143         0.548   0.335  9.0   0.0    0.656  98.688       162067  "
      ]
     },
     "execution_count": 8,
     "metadata": {},
     "output_type": "execute_result"
    }
   ],
   "source": [
    "# chybne data Los Espiritus 1013 je 2013\n",
    "id_metadata.loc[id_metadata['release'] == 1899]"
   ]
  },
  {
   "cell_type": "code",
   "execution_count": 9,
   "metadata": {
    "pycharm": {
     "name": "#%%\n"
    }
   },
   "outputs": [
    {
     "data": {
      "text/html": [
       "<div>\n",
       "<style scoped>\n",
       "    .dataframe tbody tr th:only-of-type {\n",
       "        vertical-align: middle;\n",
       "    }\n",
       "\n",
       "    .dataframe tbody tr th {\n",
       "        vertical-align: top;\n",
       "    }\n",
       "\n",
       "    .dataframe thead th {\n",
       "        text-align: right;\n",
       "    }\n",
       "</style>\n",
       "<table border=\"1\" class=\"dataframe\">\n",
       "  <thead>\n",
       "    <tr style=\"text-align: right;\">\n",
       "      <th></th>\n",
       "      <th>id</th>\n",
       "      <th>artist</th>\n",
       "      <th>song</th>\n",
       "      <th>album_name</th>\n",
       "    </tr>\n",
       "  </thead>\n",
       "  <tbody>\n",
       "    <tr>\n",
       "      <th>62143</th>\n",
       "      <td>ZEuwJ4wJH5GW6ay9</td>\n",
       "      <td>Bukka White</td>\n",
       "      <td>Parchman Farm Blues</td>\n",
       "      <td>Good Gin Blues</td>\n",
       "    </tr>\n",
       "  </tbody>\n",
       "</table>\n",
       "</div>"
      ],
      "text/plain": [
       "                     id       artist                 song      album_name\n",
       "62143  ZEuwJ4wJH5GW6ay9  Bukka White  Parchman Farm Blues  Good Gin Blues"
      ]
     },
     "execution_count": 9,
     "metadata": {},
     "output_type": "execute_result"
    }
   ],
   "source": [
    "id_information.loc[id_information['id'] == 'ZEuwJ4wJH5GW6ay9']"
   ]
  },
  {
   "cell_type": "code",
   "execution_count": 10,
   "metadata": {
    "pycharm": {
     "name": "#%%\n"
    }
   },
   "outputs": [
    {
     "data": {
      "text/html": [
       "<div>\n",
       "<style scoped>\n",
       "    .dataframe tbody tr th:only-of-type {\n",
       "        vertical-align: middle;\n",
       "    }\n",
       "\n",
       "    .dataframe tbody tr th {\n",
       "        vertical-align: top;\n",
       "    }\n",
       "\n",
       "    .dataframe thead th {\n",
       "        text-align: right;\n",
       "    }\n",
       "</style>\n",
       "<table border=\"1\" class=\"dataframe\">\n",
       "  <thead>\n",
       "    <tr style=\"text-align: right;\">\n",
       "      <th></th>\n",
       "      <th>id</th>\n",
       "      <th>artist</th>\n",
       "      <th>song</th>\n",
       "      <th>album_name</th>\n",
       "    </tr>\n",
       "  </thead>\n",
       "  <tbody>\n",
       "    <tr>\n",
       "      <th>10350</th>\n",
       "      <td>5pClePd8cdUOGQe2</td>\n",
       "      <td>Los Espíritus</td>\n",
       "      <td>Lo Echaron del Bar</td>\n",
       "      <td>Los Espíritus</td>\n",
       "    </tr>\n",
       "  </tbody>\n",
       "</table>\n",
       "</div>"
      ],
      "text/plain": [
       "                     id         artist                song     album_name\n",
       "10350  5pClePd8cdUOGQe2  Los Espíritus  Lo Echaron del Bar  Los Espíritus"
      ]
     },
     "execution_count": 10,
     "metadata": {},
     "output_type": "execute_result"
    }
   ],
   "source": [
    "id_information.loc[id_information['id'] == '5pClePd8cdUOGQe2']"
   ]
  },
  {
   "cell_type": "code",
   "execution_count": 11,
   "metadata": {
    "pycharm": {
     "name": "#%%\n"
    }
   },
   "outputs": [
    {
     "data": {
      "text/html": [
       "<div>\n",
       "<style scoped>\n",
       "    .dataframe tbody tr th:only-of-type {\n",
       "        vertical-align: middle;\n",
       "    }\n",
       "\n",
       "    .dataframe tbody tr th {\n",
       "        vertical-align: top;\n",
       "    }\n",
       "\n",
       "    .dataframe thead th {\n",
       "        text-align: right;\n",
       "    }\n",
       "</style>\n",
       "<table border=\"1\" class=\"dataframe\">\n",
       "  <thead>\n",
       "    <tr style=\"text-align: right;\">\n",
       "      <th></th>\n",
       "      <th>id</th>\n",
       "      <th>artist</th>\n",
       "      <th>song</th>\n",
       "      <th>album_name</th>\n",
       "    </tr>\n",
       "  </thead>\n",
       "  <tbody>\n",
       "    <tr>\n",
       "      <th>13762</th>\n",
       "      <td>7oBqYSOUt2PehcJd</td>\n",
       "      <td>Los Espíritus</td>\n",
       "      <td>Jesús rima con cruz</td>\n",
       "      <td>Los Espíritus</td>\n",
       "    </tr>\n",
       "  </tbody>\n",
       "</table>\n",
       "</div>"
      ],
      "text/plain": [
       "                     id         artist                 song     album_name\n",
       "13762  7oBqYSOUt2PehcJd  Los Espíritus  Jesús rima con cruz  Los Espíritus"
      ]
     },
     "execution_count": 11,
     "metadata": {},
     "output_type": "execute_result"
    }
   ],
   "source": [
    "id_information.loc[id_information['id'] == '7oBqYSOUt2PehcJd']"
   ]
  },
  {
   "cell_type": "code",
   "execution_count": 12,
   "metadata": {
    "pycharm": {
     "name": "#%%\n"
    }
   },
   "outputs": [
    {
     "data": {
      "text/html": [
       "<div>\n",
       "<style scoped>\n",
       "    .dataframe tbody tr th:only-of-type {\n",
       "        vertical-align: middle;\n",
       "    }\n",
       "\n",
       "    .dataframe tbody tr th {\n",
       "        vertical-align: top;\n",
       "    }\n",
       "\n",
       "    .dataframe thead th {\n",
       "        text-align: right;\n",
       "    }\n",
       "</style>\n",
       "<table border=\"1\" class=\"dataframe\">\n",
       "  <thead>\n",
       "    <tr style=\"text-align: right;\">\n",
       "      <th></th>\n",
       "      <th>id</th>\n",
       "      <th>artist</th>\n",
       "      <th>song</th>\n",
       "      <th>album_name</th>\n",
       "    </tr>\n",
       "  </thead>\n",
       "  <tbody>\n",
       "    <tr>\n",
       "      <th>83679</th>\n",
       "      <td>lUJHN9keOtaNGCYK</td>\n",
       "      <td>Los Espíritus</td>\n",
       "      <td>noches de verano</td>\n",
       "      <td>Los Espíritus</td>\n",
       "    </tr>\n",
       "  </tbody>\n",
       "</table>\n",
       "</div>"
      ],
      "text/plain": [
       "                     id         artist              song     album_name\n",
       "83679  lUJHN9keOtaNGCYK  Los Espíritus  noches de verano  Los Espíritus"
      ]
     },
     "execution_count": 12,
     "metadata": {},
     "output_type": "execute_result"
    }
   ],
   "source": [
    "id_information.loc[id_information['id'] == 'lUJHN9keOtaNGCYK']"
   ]
  },
  {
   "cell_type": "code",
   "execution_count": 13,
   "metadata": {
    "pycharm": {
     "name": "#%%\n"
    }
   },
   "outputs": [],
   "source": [
    "song_by_year = id_metadata.groupby('release')"
   ]
  },
  {
   "cell_type": "code",
   "execution_count": 21,
   "metadata": {
    "pycharm": {
     "name": "#%%\n"
    }
   },
   "outputs": [
    {
     "data": {
      "text/plain": [
       "release\n",
       "1013        3\n",
       "1899        1\n",
       "1900        1\n",
       "1923        1\n",
       "1926        1\n",
       "        ...  \n",
       "2015     5587\n",
       "2016     6796\n",
       "2017     8206\n",
       "2018    10525\n",
       "2019     3838\n",
       "Length: 88, dtype: int64"
      ]
     },
     "execution_count": 21,
     "metadata": {},
     "output_type": "execute_result"
    }
   ],
   "source": [
    "id_metadata.groupby('release').size()"
   ]
  },
  {
   "cell_type": "code",
   "execution_count": 36,
   "metadata": {
    "pycharm": {
     "name": "#%%\n"
    }
   },
   "outputs": [
    {
     "data": {
      "text/plain": [
       "<AxesSubplot:title={'center':'Songs by years'}, xlabel='year', ylabel='size'>"
      ]
     },
     "execution_count": 36,
     "metadata": {},
     "output_type": "execute_result"
    },
    {
     "data": {
      "image/png": "[encoded data removed]",
      "text/plain": [
       "<Figure size 1800x720 with 1 Axes>"
      ]
     },
     "metadata": {
      "needs_background": "light"
     },
     "output_type": "display_data"
    }
   ],
   "source": [
    "id_metadata.groupby('release').size().plot(kind='bar', title='Songs by years',\n",
    "                                           ylabel='size', xlabel='year', figsize=(25, 10))\n"
   ]
  },
  {
   "cell_type": "code",
   "execution_count": 40,
   "metadata": {},
   "outputs": [
    {
     "data": {
      "text/plain": [
       "<AxesSubplot:title={'center':'Songs by years'}, xlabel='year', ylabel='size'>"
      ]
     },
     "execution_count": 40,
     "metadata": {},
     "output_type": "execute_result"
    },
    {
     "data": {
      "image/png": "[encoded data removed]",
      "text/plain": [
       "<Figure size 1800x720 with 1 Axes>"
      ]
     },
     "metadata": {
      "needs_background": "light"
     },
     "output_type": "display_data"
    }
   ],
   "source": [
    "id_metadata.groupby('release').size().plot(kind='bar', title='Songs by years',\n",
    "                                           ylabel='size', xlabel='year', figsize=(25, 10))"
   ]
  },
  {
   "cell_type": "code",
   "execution_count": null,
   "metadata": {},
   "outputs": [],
   "source": []
  },
  {
   "cell_type": "code",
   "execution_count": null,
   "metadata": {
    "pycharm": {
     "name": "#%%\n"
    }
   },
   "outputs": [],
   "source": []
  }
 ],
 "metadata": {
  "kernelspec": {
   "display_name": "Python 3 (ipykernel)",
   "language": "python",
   "name": "python3"
  },
  "language_info": {
   "codemirror_mode": {
    "name": "ipython",
    "version": 3
   },
   "file_extension": ".py",
   "mimetype": "text/x-python",
   "name": "python",
   "nbconvert_exporter": "python",
   "pygments_lexer": "ipython3",
   "version": "3.10.8"
  }
 },
 "nbformat": 4,
 "nbformat_minor": 1
}
