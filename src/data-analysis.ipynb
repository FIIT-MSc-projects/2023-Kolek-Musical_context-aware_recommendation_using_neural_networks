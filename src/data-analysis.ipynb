{
 "cells": [
  {
   "cell_type": "code",
   "execution_count": 1,
   "metadata": {
    "scrolled": true
   },
   "outputs": [],
   "source": [
    "import pandas as pd\n",
    "import numpy as np\n",
    "from keras.models import Sequential\n",
    "from keras.layers import Dense, Dropout, Embedding, LSTM, Conv1D, MaxPooling1D, Flatten\n",
    "from keras.callbacks import EarlyStopping, ModelCheckpoint, TensorBoard\n",
    "from keras.utils import np_utils\n",
    "import matplotlib.pyplot as plt\n",
    "import keras"
   ]
  },
  {
   "cell_type": "code",
   "execution_count": 2,
   "metadata": {},
   "outputs": [],
   "source": [
    "listening_history = pd.read_csv('../data/listening_history.csv', sep='\\t')\n",
    "id_tags = pd.read_csv('../data/id_tags.csv', sep='\\t')\n",
    "id_genres = pd.read_csv('../data/id_genres.csv', sep='\\t')\n",
    "id_information = pd.read_csv('../data/id_information.csv', sep='\\t')\n",
    "id_metadata = pd.read_csv('../data/id_metadata.csv', sep='\\t')\n",
    "id_lang = pd.read_csv('../data/id_lang.csv', sep='\\t')"
   ]
  },
  {
   "cell_type": "markdown",
   "metadata": {},
   "source": [
    "# Data analysis of Music4All dataset\n",
    "\n",
    "### listening_history.csv:\n",
    "    The listening history for each user in the database. There are three attributes in this file: user, song and timestamp."
   ]
  },
  {
   "cell_type": "code",
   "execution_count": 3,
   "metadata": {},
   "outputs": [
    {
     "data": {
      "text/html": [
       "<div>\n",
       "<style scoped>\n",
       "    .dataframe tbody tr th:only-of-type {\n",
       "        vertical-align: middle;\n",
       "    }\n",
       "\n",
       "    .dataframe tbody tr th {\n",
       "        vertical-align: top;\n",
       "    }\n",
       "\n",
       "    .dataframe thead th {\n",
       "        text-align: right;\n",
       "    }\n",
       "</style>\n",
       "<table border=\"1\" class=\"dataframe\">\n",
       "  <thead>\n",
       "    <tr style=\"text-align: right;\">\n",
       "      <th></th>\n",
       "      <th>user</th>\n",
       "      <th>song</th>\n",
       "      <th>timestamp</th>\n",
       "    </tr>\n",
       "  </thead>\n",
       "  <tbody>\n",
       "    <tr>\n",
       "      <th>0</th>\n",
       "      <td>user_007XIjOr</td>\n",
       "      <td>DaTQ53TUmfP93FSr</td>\n",
       "      <td>2019-02-20 12:28</td>\n",
       "    </tr>\n",
       "    <tr>\n",
       "      <th>1</th>\n",
       "      <td>user_007XIjOr</td>\n",
       "      <td>dGeyvi5WCOjDU7da</td>\n",
       "      <td>2019-02-20 12:35</td>\n",
       "    </tr>\n",
       "    <tr>\n",
       "      <th>2</th>\n",
       "      <td>user_007XIjOr</td>\n",
       "      <td>qUm54NYOjeFhmKYx</td>\n",
       "      <td>2019-02-20 12:48</td>\n",
       "    </tr>\n",
       "    <tr>\n",
       "      <th>3</th>\n",
       "      <td>user_007XIjOr</td>\n",
       "      <td>FtnuMT1DlevSR2n5</td>\n",
       "      <td>2019-02-20 12:52</td>\n",
       "    </tr>\n",
       "    <tr>\n",
       "      <th>4</th>\n",
       "      <td>user_007XIjOr</td>\n",
       "      <td>LHETTZcSZLeaVOGh</td>\n",
       "      <td>2019-02-20 13:09</td>\n",
       "    </tr>\n",
       "  </tbody>\n",
       "</table>\n",
       "</div>"
      ],
      "text/plain": [
       "            user              song         timestamp\n",
       "0  user_007XIjOr  DaTQ53TUmfP93FSr  2019-02-20 12:28\n",
       "1  user_007XIjOr  dGeyvi5WCOjDU7da  2019-02-20 12:35\n",
       "2  user_007XIjOr  qUm54NYOjeFhmKYx  2019-02-20 12:48\n",
       "3  user_007XIjOr  FtnuMT1DlevSR2n5  2019-02-20 12:52\n",
       "4  user_007XIjOr  LHETTZcSZLeaVOGh  2019-02-20 13:09"
      ]
     },
     "execution_count": 3,
     "metadata": {},
     "output_type": "execute_result"
    }
   ],
   "source": [
    "listening_history.head()"
   ]
  },
  {
   "cell_type": "markdown",
   "metadata": {},
   "source": [
    "### id_tags.csv:\n",
    "    This file contains the id for each song and the tags associated with it. The sets of tags are separated by a comma."
   ]
  },
  {
   "cell_type": "code",
   "execution_count": 4,
   "metadata": {},
   "outputs": [
    {
     "data": {
      "text/html": [
       "<div>\n",
       "<style scoped>\n",
       "    .dataframe tbody tr th:only-of-type {\n",
       "        vertical-align: middle;\n",
       "    }\n",
       "\n",
       "    .dataframe tbody tr th {\n",
       "        vertical-align: top;\n",
       "    }\n",
       "\n",
       "    .dataframe thead th {\n",
       "        text-align: right;\n",
       "    }\n",
       "</style>\n",
       "<table border=\"1\" class=\"dataframe\">\n",
       "  <thead>\n",
       "    <tr style=\"text-align: right;\">\n",
       "      <th></th>\n",
       "      <th>id</th>\n",
       "      <th>tags</th>\n",
       "    </tr>\n",
       "  </thead>\n",
       "  <tbody>\n",
       "    <tr>\n",
       "      <th>0</th>\n",
       "      <td>0009fFIM1eYThaPg</td>\n",
       "      <td>pop,british,female vocalists,dance,cheryl cole</td>\n",
       "    </tr>\n",
       "    <tr>\n",
       "      <th>1</th>\n",
       "      <td>0010xmHR6UICBOYT</td>\n",
       "      <td>instrumental hip-hop,underground hip hop,instr...</td>\n",
       "    </tr>\n",
       "    <tr>\n",
       "      <th>2</th>\n",
       "      <td>002Jyd0vN4HyCpqL</td>\n",
       "      <td>hard rock,rock,classic rock,american artist</td>\n",
       "    </tr>\n",
       "    <tr>\n",
       "      <th>3</th>\n",
       "      <td>006TYKNjNxWjfKjy</td>\n",
       "      <td>symphonic metal,power metal,symphonic power metal</td>\n",
       "    </tr>\n",
       "    <tr>\n",
       "      <th>4</th>\n",
       "      <td>007LIJOPQ4Sb98qV</td>\n",
       "      <td>post-punk,new wave,1985</td>\n",
       "    </tr>\n",
       "  </tbody>\n",
       "</table>\n",
       "</div>"
      ],
      "text/plain": [
       "                 id                                               tags\n",
       "0  0009fFIM1eYThaPg     pop,british,female vocalists,dance,cheryl cole\n",
       "1  0010xmHR6UICBOYT  instrumental hip-hop,underground hip hop,instr...\n",
       "2  002Jyd0vN4HyCpqL        hard rock,rock,classic rock,american artist\n",
       "3  006TYKNjNxWjfKjy  symphonic metal,power metal,symphonic power metal\n",
       "4  007LIJOPQ4Sb98qV                            post-punk,new wave,1985"
      ]
     },
     "execution_count": 4,
     "metadata": {},
     "output_type": "execute_result"
    }
   ],
   "source": [
    "id_tags.head()"
   ]
  },
  {
   "cell_type": "markdown",
   "metadata": {},
   "source": [
    "### id_genres.csv:\n",
    "    This file contains the id for each song and the genres associated with it. The genres are separated by a comma."
   ]
  },
  {
   "cell_type": "code",
   "execution_count": 5,
   "metadata": {},
   "outputs": [
    {
     "data": {
      "text/html": [
       "<div>\n",
       "<style scoped>\n",
       "    .dataframe tbody tr th:only-of-type {\n",
       "        vertical-align: middle;\n",
       "    }\n",
       "\n",
       "    .dataframe tbody tr th {\n",
       "        vertical-align: top;\n",
       "    }\n",
       "\n",
       "    .dataframe thead th {\n",
       "        text-align: right;\n",
       "    }\n",
       "</style>\n",
       "<table border=\"1\" class=\"dataframe\">\n",
       "  <thead>\n",
       "    <tr style=\"text-align: right;\">\n",
       "      <th></th>\n",
       "      <th>id</th>\n",
       "      <th>genres</th>\n",
       "    </tr>\n",
       "  </thead>\n",
       "  <tbody>\n",
       "    <tr>\n",
       "      <th>0</th>\n",
       "      <td>0009fFIM1eYThaPg</td>\n",
       "      <td>pop</td>\n",
       "    </tr>\n",
       "    <tr>\n",
       "      <th>1</th>\n",
       "      <td>0010xmHR6UICBOYT</td>\n",
       "      <td>underground hip hop</td>\n",
       "    </tr>\n",
       "    <tr>\n",
       "      <th>2</th>\n",
       "      <td>002Jyd0vN4HyCpqL</td>\n",
       "      <td>hard rock,rock,classic rock</td>\n",
       "    </tr>\n",
       "    <tr>\n",
       "      <th>3</th>\n",
       "      <td>006TYKNjNxWjfKjy</td>\n",
       "      <td>symphonic metal,power metal,symphonic power metal</td>\n",
       "    </tr>\n",
       "    <tr>\n",
       "      <th>4</th>\n",
       "      <td>007LIJOPQ4Sb98qV</td>\n",
       "      <td>post-punk,new wave</td>\n",
       "    </tr>\n",
       "  </tbody>\n",
       "</table>\n",
       "</div>"
      ],
      "text/plain": [
       "                 id                                             genres\n",
       "0  0009fFIM1eYThaPg                                                pop\n",
       "1  0010xmHR6UICBOYT                                underground hip hop\n",
       "2  002Jyd0vN4HyCpqL                        hard rock,rock,classic rock\n",
       "3  006TYKNjNxWjfKjy  symphonic metal,power metal,symphonic power metal\n",
       "4  007LIJOPQ4Sb98qV                                 post-punk,new wave"
      ]
     },
     "execution_count": 5,
     "metadata": {},
     "output_type": "execute_result"
    }
   ],
   "source": [
    "id_genres.head()"
   ]
  },
  {
   "cell_type": "markdown",
   "metadata": {},
   "source": [
    "### id_information.csv:\n",
    "    This file contains the id of the song along with basic information about it, namely artist, song name and album name."
   ]
  },
  {
   "cell_type": "code",
   "execution_count": 6,
   "metadata": {},
   "outputs": [
    {
     "data": {
      "text/html": [
       "<div>\n",
       "<style scoped>\n",
       "    .dataframe tbody tr th:only-of-type {\n",
       "        vertical-align: middle;\n",
       "    }\n",
       "\n",
       "    .dataframe tbody tr th {\n",
       "        vertical-align: top;\n",
       "    }\n",
       "\n",
       "    .dataframe thead th {\n",
       "        text-align: right;\n",
       "    }\n",
       "</style>\n",
       "<table border=\"1\" class=\"dataframe\">\n",
       "  <thead>\n",
       "    <tr style=\"text-align: right;\">\n",
       "      <th></th>\n",
       "      <th>id</th>\n",
       "      <th>artist</th>\n",
       "      <th>song</th>\n",
       "      <th>album_name</th>\n",
       "    </tr>\n",
       "  </thead>\n",
       "  <tbody>\n",
       "    <tr>\n",
       "      <th>0</th>\n",
       "      <td>0009fFIM1eYThaPg</td>\n",
       "      <td>Cheryl</td>\n",
       "      <td>Rain on Me</td>\n",
       "      <td>3 Words</td>\n",
       "    </tr>\n",
       "    <tr>\n",
       "      <th>1</th>\n",
       "      <td>0010xmHR6UICBOYT</td>\n",
       "      <td>Oddisee</td>\n",
       "      <td>After Thoughts</td>\n",
       "      <td>The Beauty in All</td>\n",
       "    </tr>\n",
       "    <tr>\n",
       "      <th>2</th>\n",
       "      <td>002Jyd0vN4HyCpqL</td>\n",
       "      <td>Blue Öyster Cult</td>\n",
       "      <td>ME 262</td>\n",
       "      <td>Secret Treaties</td>\n",
       "    </tr>\n",
       "    <tr>\n",
       "      <th>3</th>\n",
       "      <td>006TYKNjNxWjfKjy</td>\n",
       "      <td>Rhapsody</td>\n",
       "      <td>Flames of Revenge</td>\n",
       "      <td>Legendary Years (Re-Recorded)</td>\n",
       "    </tr>\n",
       "    <tr>\n",
       "      <th>4</th>\n",
       "      <td>007LIJOPQ4Sb98qV</td>\n",
       "      <td>The Chameleons</td>\n",
       "      <td>Nostalgia</td>\n",
       "      <td>What Does Anything Mean? Basically (2009 Remas...</td>\n",
       "    </tr>\n",
       "  </tbody>\n",
       "</table>\n",
       "</div>"
      ],
      "text/plain": [
       "                 id            artist               song  \\\n",
       "0  0009fFIM1eYThaPg            Cheryl         Rain on Me   \n",
       "1  0010xmHR6UICBOYT           Oddisee     After Thoughts   \n",
       "2  002Jyd0vN4HyCpqL  Blue Öyster Cult             ME 262   \n",
       "3  006TYKNjNxWjfKjy          Rhapsody  Flames of Revenge   \n",
       "4  007LIJOPQ4Sb98qV    The Chameleons          Nostalgia   \n",
       "\n",
       "                                          album_name  \n",
       "0                                            3 Words  \n",
       "1                                  The Beauty in All  \n",
       "2                                    Secret Treaties  \n",
       "3                      Legendary Years (Re-Recorded)  \n",
       "4  What Does Anything Mean? Basically (2009 Remas...  "
      ]
     },
     "execution_count": 6,
     "metadata": {},
     "output_type": "execute_result"
    }
   ],
   "source": [
    "id_information.head()"
   ]
  },
  {
   "cell_type": "markdown",
   "metadata": {},
   "source": [
    "### id_metadata.csv:\n",
    "    This file contains the id of the song and its attributes obtained through the Spotify official API, including their Spotify id."
   ]
  },
  {
   "cell_type": "code",
   "execution_count": 7,
   "metadata": {},
   "outputs": [
    {
     "data": {
      "text/html": [
       "<div>\n",
       "<style scoped>\n",
       "    .dataframe tbody tr th:only-of-type {\n",
       "        vertical-align: middle;\n",
       "    }\n",
       "\n",
       "    .dataframe tbody tr th {\n",
       "        vertical-align: top;\n",
       "    }\n",
       "\n",
       "    .dataframe thead th {\n",
       "        text-align: right;\n",
       "    }\n",
       "</style>\n",
       "<table border=\"1\" class=\"dataframe\">\n",
       "  <thead>\n",
       "    <tr style=\"text-align: right;\">\n",
       "      <th></th>\n",
       "      <th>id</th>\n",
       "      <th>spotify_id</th>\n",
       "      <th>popularity</th>\n",
       "      <th>release</th>\n",
       "      <th>danceability</th>\n",
       "      <th>energy</th>\n",
       "      <th>key</th>\n",
       "      <th>mode</th>\n",
       "      <th>valence</th>\n",
       "      <th>tempo</th>\n",
       "      <th>duration_ms</th>\n",
       "    </tr>\n",
       "  </thead>\n",
       "  <tbody>\n",
       "    <tr>\n",
       "      <th>0</th>\n",
       "      <td>0009fFIM1eYThaPg</td>\n",
       "      <td>3eObKIfHKJ1nAPh0wTxFCc</td>\n",
       "      <td>12.0</td>\n",
       "      <td>2009</td>\n",
       "      <td>0.635</td>\n",
       "      <td>0.746</td>\n",
       "      <td>6.0</td>\n",
       "      <td>1.0</td>\n",
       "      <td>0.548</td>\n",
       "      <td>110.973</td>\n",
       "      <td>229947</td>\n",
       "    </tr>\n",
       "    <tr>\n",
       "      <th>1</th>\n",
       "      <td>0010xmHR6UICBOYT</td>\n",
       "      <td>27szvF97Tu95GxN98N52fy</td>\n",
       "      <td>46.0</td>\n",
       "      <td>2013</td>\n",
       "      <td>0.591</td>\n",
       "      <td>0.513</td>\n",
       "      <td>7.0</td>\n",
       "      <td>0.0</td>\n",
       "      <td>0.263</td>\n",
       "      <td>172.208</td>\n",
       "      <td>325096</td>\n",
       "    </tr>\n",
       "    <tr>\n",
       "      <th>2</th>\n",
       "      <td>002Jyd0vN4HyCpqL</td>\n",
       "      <td>273lBFpxUCwisTpdnF9cVb</td>\n",
       "      <td>31.0</td>\n",
       "      <td>1974</td>\n",
       "      <td>0.319</td>\n",
       "      <td>0.925</td>\n",
       "      <td>2.0</td>\n",
       "      <td>1.0</td>\n",
       "      <td>0.658</td>\n",
       "      <td>157.630</td>\n",
       "      <td>285693</td>\n",
       "    </tr>\n",
       "    <tr>\n",
       "      <th>3</th>\n",
       "      <td>006TYKNjNxWjfKjy</td>\n",
       "      <td>1qZgergQ41vaD4zBf3AKXR</td>\n",
       "      <td>33.0</td>\n",
       "      <td>2017</td>\n",
       "      <td>0.432</td>\n",
       "      <td>0.979</td>\n",
       "      <td>7.0</td>\n",
       "      <td>1.0</td>\n",
       "      <td>0.162</td>\n",
       "      <td>90.008</td>\n",
       "      <td>332867</td>\n",
       "    </tr>\n",
       "    <tr>\n",
       "      <th>4</th>\n",
       "      <td>007LIJOPQ4Sb98qV</td>\n",
       "      <td>6rVxJ3sN3Cz40MSLavbG1K</td>\n",
       "      <td>19.0</td>\n",
       "      <td>2009</td>\n",
       "      <td>0.357</td>\n",
       "      <td>0.708</td>\n",
       "      <td>9.0</td>\n",
       "      <td>1.0</td>\n",
       "      <td>0.470</td>\n",
       "      <td>123.904</td>\n",
       "      <td>326067</td>\n",
       "    </tr>\n",
       "  </tbody>\n",
       "</table>\n",
       "</div>"
      ],
      "text/plain": [
       "                 id              spotify_id  popularity  release  \\\n",
       "0  0009fFIM1eYThaPg  3eObKIfHKJ1nAPh0wTxFCc        12.0     2009   \n",
       "1  0010xmHR6UICBOYT  27szvF97Tu95GxN98N52fy        46.0     2013   \n",
       "2  002Jyd0vN4HyCpqL  273lBFpxUCwisTpdnF9cVb        31.0     1974   \n",
       "3  006TYKNjNxWjfKjy  1qZgergQ41vaD4zBf3AKXR        33.0     2017   \n",
       "4  007LIJOPQ4Sb98qV  6rVxJ3sN3Cz40MSLavbG1K        19.0     2009   \n",
       "\n",
       "   danceability  energy  key  mode  valence    tempo  duration_ms  \n",
       "0         0.635   0.746  6.0   1.0    0.548  110.973       229947  \n",
       "1         0.591   0.513  7.0   0.0    0.263  172.208       325096  \n",
       "2         0.319   0.925  2.0   1.0    0.658  157.630       285693  \n",
       "3         0.432   0.979  7.0   1.0    0.162   90.008       332867  \n",
       "4         0.357   0.708  9.0   1.0    0.470  123.904       326067  "
      ]
     },
     "execution_count": 7,
     "metadata": {},
     "output_type": "execute_result"
    }
   ],
   "source": [
    "id_metadata.head()"
   ]
  },
  {
   "cell_type": "markdown",
   "metadata": {},
   "source": [
    "### id_lang.csv:\n",
    "    This file contains the id of the song and the language of the lyrics."
   ]
  },
  {
   "cell_type": "code",
   "execution_count": 8,
   "metadata": {},
   "outputs": [
    {
     "data": {
      "text/html": [
       "<div>\n",
       "<style scoped>\n",
       "    .dataframe tbody tr th:only-of-type {\n",
       "        vertical-align: middle;\n",
       "    }\n",
       "\n",
       "    .dataframe tbody tr th {\n",
       "        vertical-align: top;\n",
       "    }\n",
       "\n",
       "    .dataframe thead th {\n",
       "        text-align: right;\n",
       "    }\n",
       "</style>\n",
       "<table border=\"1\" class=\"dataframe\">\n",
       "  <thead>\n",
       "    <tr style=\"text-align: right;\">\n",
       "      <th></th>\n",
       "      <th>id</th>\n",
       "      <th>lang</th>\n",
       "    </tr>\n",
       "  </thead>\n",
       "  <tbody>\n",
       "    <tr>\n",
       "      <th>0</th>\n",
       "      <td>0009fFIM1eYThaPg</td>\n",
       "      <td>en</td>\n",
       "    </tr>\n",
       "    <tr>\n",
       "      <th>1</th>\n",
       "      <td>0010xmHR6UICBOYT</td>\n",
       "      <td>en</td>\n",
       "    </tr>\n",
       "    <tr>\n",
       "      <th>2</th>\n",
       "      <td>002Jyd0vN4HyCpqL</td>\n",
       "      <td>en</td>\n",
       "    </tr>\n",
       "    <tr>\n",
       "      <th>3</th>\n",
       "      <td>006TYKNjNxWjfKjy</td>\n",
       "      <td>en</td>\n",
       "    </tr>\n",
       "    <tr>\n",
       "      <th>4</th>\n",
       "      <td>007LIJOPQ4Sb98qV</td>\n",
       "      <td>en</td>\n",
       "    </tr>\n",
       "  </tbody>\n",
       "</table>\n",
       "</div>"
      ],
      "text/plain": [
       "                 id lang\n",
       "0  0009fFIM1eYThaPg   en\n",
       "1  0010xmHR6UICBOYT   en\n",
       "2  002Jyd0vN4HyCpqL   en\n",
       "3  006TYKNjNxWjfKjy   en\n",
       "4  007LIJOPQ4Sb98qV   en"
      ]
     },
     "execution_count": 8,
     "metadata": {},
     "output_type": "execute_result"
    }
   ],
   "source": [
    "id_lang.head()"
   ]
  },
  {
   "cell_type": "markdown",
   "metadata": {},
   "source": [
    "# listening_history.csv\n",
    "5 109 592 records:\n",
    "- 14 127 unique users\n",
    "- 99 596 unique songs\n",
    "- 122 340 unique timestamps"
   ]
  },
  {
   "cell_type": "code",
   "execution_count": 9,
   "metadata": {
    "pycharm": {
     "name": "#%%\n"
    }
   },
   "outputs": [
    {
     "name": "stdout",
     "output_type": "stream",
     "text": [
      "<class 'pandas.core.frame.DataFrame'>\n",
      "RangeIndex: 5109592 entries, 0 to 5109591\n",
      "Data columns (total 3 columns):\n",
      " #   Column     Dtype \n",
      "---  ------     ----- \n",
      " 0   user       object\n",
      " 1   song       object\n",
      " 2   timestamp  object\n",
      "dtypes: object(3)\n",
      "memory usage: 116.9+ MB\n"
     ]
    }
   ],
   "source": [
    "listening_history.info()"
   ]
  },
  {
   "cell_type": "code",
   "execution_count": 10,
   "metadata": {},
   "outputs": [
    {
     "data": {
      "text/plain": [
       "user         object\n",
       "song         object\n",
       "timestamp    object\n",
       "dtype: object"
      ]
     },
     "execution_count": 10,
     "metadata": {},
     "output_type": "execute_result"
    }
   ],
   "source": [
    "listening_history.dtypes"
   ]
  },
  {
   "cell_type": "code",
   "execution_count": 11,
   "metadata": {},
   "outputs": [
    {
     "data": {
      "text/html": [
       "<div>\n",
       "<style scoped>\n",
       "    .dataframe tbody tr th:only-of-type {\n",
       "        vertical-align: middle;\n",
       "    }\n",
       "\n",
       "    .dataframe tbody tr th {\n",
       "        vertical-align: top;\n",
       "    }\n",
       "\n",
       "    .dataframe thead th {\n",
       "        text-align: right;\n",
       "    }\n",
       "</style>\n",
       "<table border=\"1\" class=\"dataframe\">\n",
       "  <thead>\n",
       "    <tr style=\"text-align: right;\">\n",
       "      <th></th>\n",
       "      <th>user</th>\n",
       "      <th>song</th>\n",
       "      <th>timestamp</th>\n",
       "    </tr>\n",
       "  </thead>\n",
       "  <tbody>\n",
       "    <tr>\n",
       "      <th>count</th>\n",
       "      <td>5109592</td>\n",
       "      <td>5109592</td>\n",
       "      <td>5109592</td>\n",
       "    </tr>\n",
       "    <tr>\n",
       "      <th>unique</th>\n",
       "      <td>14127</td>\n",
       "      <td>99596</td>\n",
       "      <td>122340</td>\n",
       "    </tr>\n",
       "    <tr>\n",
       "      <th>top</th>\n",
       "      <td>user_N9OKtRH0</td>\n",
       "      <td>32m5suoC94ytD8Ed</td>\n",
       "      <td>2019-02-08 20:35</td>\n",
       "    </tr>\n",
       "    <tr>\n",
       "      <th>freq</th>\n",
       "      <td>500</td>\n",
       "      <td>82871</td>\n",
       "      <td>175</td>\n",
       "    </tr>\n",
       "  </tbody>\n",
       "</table>\n",
       "</div>"
      ],
      "text/plain": [
       "                 user              song         timestamp\n",
       "count         5109592           5109592           5109592\n",
       "unique          14127             99596            122340\n",
       "top     user_N9OKtRH0  32m5suoC94ytD8Ed  2019-02-08 20:35\n",
       "freq              500             82871               175"
      ]
     },
     "execution_count": 11,
     "metadata": {},
     "output_type": "execute_result"
    }
   ],
   "source": [
    "listening_history.describe()"
   ]
  },
  {
   "cell_type": "code",
   "execution_count": 12,
   "metadata": {
    "pycharm": {
     "name": "#%%\n"
    }
   },
   "outputs": [
    {
     "data": {
      "text/html": [
       "<div>\n",
       "<style scoped>\n",
       "    .dataframe tbody tr th:only-of-type {\n",
       "        vertical-align: middle;\n",
       "    }\n",
       "\n",
       "    .dataframe tbody tr th {\n",
       "        vertical-align: top;\n",
       "    }\n",
       "\n",
       "    .dataframe thead th {\n",
       "        text-align: right;\n",
       "    }\n",
       "</style>\n",
       "<table border=\"1\" class=\"dataframe\">\n",
       "  <thead>\n",
       "    <tr style=\"text-align: right;\">\n",
       "      <th></th>\n",
       "      <th>user</th>\n",
       "      <th>song</th>\n",
       "      <th>timestamp</th>\n",
       "    </tr>\n",
       "  </thead>\n",
       "  <tbody>\n",
       "    <tr>\n",
       "      <th>0</th>\n",
       "      <td>user_007XIjOr</td>\n",
       "      <td>DaTQ53TUmfP93FSr</td>\n",
       "      <td>2019-02-20 12:28</td>\n",
       "    </tr>\n",
       "    <tr>\n",
       "      <th>1</th>\n",
       "      <td>user_007XIjOr</td>\n",
       "      <td>dGeyvi5WCOjDU7da</td>\n",
       "      <td>2019-02-20 12:35</td>\n",
       "    </tr>\n",
       "    <tr>\n",
       "      <th>2</th>\n",
       "      <td>user_007XIjOr</td>\n",
       "      <td>qUm54NYOjeFhmKYx</td>\n",
       "      <td>2019-02-20 12:48</td>\n",
       "    </tr>\n",
       "    <tr>\n",
       "      <th>3</th>\n",
       "      <td>user_007XIjOr</td>\n",
       "      <td>FtnuMT1DlevSR2n5</td>\n",
       "      <td>2019-02-20 12:52</td>\n",
       "    </tr>\n",
       "    <tr>\n",
       "      <th>4</th>\n",
       "      <td>user_007XIjOr</td>\n",
       "      <td>LHETTZcSZLeaVOGh</td>\n",
       "      <td>2019-02-20 13:09</td>\n",
       "    </tr>\n",
       "  </tbody>\n",
       "</table>\n",
       "</div>"
      ],
      "text/plain": [
       "            user              song         timestamp\n",
       "0  user_007XIjOr  DaTQ53TUmfP93FSr  2019-02-20 12:28\n",
       "1  user_007XIjOr  dGeyvi5WCOjDU7da  2019-02-20 12:35\n",
       "2  user_007XIjOr  qUm54NYOjeFhmKYx  2019-02-20 12:48\n",
       "3  user_007XIjOr  FtnuMT1DlevSR2n5  2019-02-20 12:52\n",
       "4  user_007XIjOr  LHETTZcSZLeaVOGh  2019-02-20 13:09"
      ]
     },
     "execution_count": 12,
     "metadata": {},
     "output_type": "execute_result"
    }
   ],
   "source": [
    "listening_history.head()"
   ]
  },
  {
   "cell_type": "code",
   "execution_count": 13,
   "metadata": {
    "pycharm": {
     "name": "#%%\n"
    }
   },
   "outputs": [
    {
     "data": {
      "text/html": [
       "<div>\n",
       "<style scoped>\n",
       "    .dataframe tbody tr th:only-of-type {\n",
       "        vertical-align: middle;\n",
       "    }\n",
       "\n",
       "    .dataframe tbody tr th {\n",
       "        vertical-align: top;\n",
       "    }\n",
       "\n",
       "    .dataframe thead th {\n",
       "        text-align: right;\n",
       "    }\n",
       "</style>\n",
       "<table border=\"1\" class=\"dataframe\">\n",
       "  <thead>\n",
       "    <tr style=\"text-align: right;\">\n",
       "      <th></th>\n",
       "      <th>user</th>\n",
       "      <th>song</th>\n",
       "      <th>timestamp</th>\n",
       "    </tr>\n",
       "  </thead>\n",
       "  <tbody>\n",
       "    <tr>\n",
       "      <th>5109587</th>\n",
       "      <td>user_zzWscYTy</td>\n",
       "      <td>BBiswLufo26YQCT7</td>\n",
       "      <td>2019-01-10 15:57</td>\n",
       "    </tr>\n",
       "    <tr>\n",
       "      <th>5109588</th>\n",
       "      <td>user_zzWscYTy</td>\n",
       "      <td>5ZHgff3sjETIiedr</td>\n",
       "      <td>2019-01-10 16:21</td>\n",
       "    </tr>\n",
       "    <tr>\n",
       "      <th>5109589</th>\n",
       "      <td>user_zzWscYTy</td>\n",
       "      <td>m4O1iLh6fC43xjRy</td>\n",
       "      <td>2019-01-10 16:48</td>\n",
       "    </tr>\n",
       "    <tr>\n",
       "      <th>5109590</th>\n",
       "      <td>user_zzWscYTy</td>\n",
       "      <td>mvUaP8k67qOFfA65</td>\n",
       "      <td>2019-01-10 21:13</td>\n",
       "    </tr>\n",
       "    <tr>\n",
       "      <th>5109591</th>\n",
       "      <td>user_zzWscYTy</td>\n",
       "      <td>BBiswLufo26YQCT7</td>\n",
       "      <td>2019-01-10 21:16</td>\n",
       "    </tr>\n",
       "  </tbody>\n",
       "</table>\n",
       "</div>"
      ],
      "text/plain": [
       "                  user              song         timestamp\n",
       "5109587  user_zzWscYTy  BBiswLufo26YQCT7  2019-01-10 15:57\n",
       "5109588  user_zzWscYTy  5ZHgff3sjETIiedr  2019-01-10 16:21\n",
       "5109589  user_zzWscYTy  m4O1iLh6fC43xjRy  2019-01-10 16:48\n",
       "5109590  user_zzWscYTy  mvUaP8k67qOFfA65  2019-01-10 21:13\n",
       "5109591  user_zzWscYTy  BBiswLufo26YQCT7  2019-01-10 21:16"
      ]
     },
     "execution_count": 13,
     "metadata": {},
     "output_type": "execute_result"
    }
   ],
   "source": [
    "listening_history.tail()"
   ]
  },
  {
   "cell_type": "code",
   "execution_count": 14,
   "metadata": {
    "pycharm": {
     "name": "#%%\n"
    }
   },
   "outputs": [],
   "source": [
    "# listening_history.groupby('user').describe()"
   ]
  },
  {
   "cell_type": "code",
   "execution_count": 15,
   "metadata": {
    "pycharm": {
     "name": "#%%\n"
    }
   },
   "outputs": [],
   "source": [
    "# listening_history.groupby('song').describe()"
   ]
  },
  {
   "cell_type": "code",
   "execution_count": 16,
   "metadata": {
    "pycharm": {
     "name": "#%%\n"
    }
   },
   "outputs": [
    {
     "data": {
      "text/plain": [
       "user         0\n",
       "song         0\n",
       "timestamp    0\n",
       "dtype: int64"
      ]
     },
     "execution_count": 16,
     "metadata": {},
     "output_type": "execute_result"
    }
   ],
   "source": [
    "listening_history.isnull().sum()"
   ]
  },
  {
   "cell_type": "markdown",
   "metadata": {},
   "source": [
    "## Date range\n",
    "Date *from* **2013-12-30 22:42** *to* **2019-03-26 11:57**"
   ]
  },
  {
   "cell_type": "code",
   "execution_count": 17,
   "metadata": {
    "pycharm": {
     "name": "#%%\n"
    }
   },
   "outputs": [],
   "source": [
    "listening_history_by_timestamp_asc = listening_history.sort_values(by='timestamp')"
   ]
  },
  {
   "cell_type": "code",
   "execution_count": 18,
   "metadata": {
    "pycharm": {
     "name": "#%%\n"
    }
   },
   "outputs": [
    {
     "data": {
      "text/html": [
       "<div>\n",
       "<style scoped>\n",
       "    .dataframe tbody tr th:only-of-type {\n",
       "        vertical-align: middle;\n",
       "    }\n",
       "\n",
       "    .dataframe tbody tr th {\n",
       "        vertical-align: top;\n",
       "    }\n",
       "\n",
       "    .dataframe thead th {\n",
       "        text-align: right;\n",
       "    }\n",
       "</style>\n",
       "<table border=\"1\" class=\"dataframe\">\n",
       "  <thead>\n",
       "    <tr style=\"text-align: right;\">\n",
       "      <th></th>\n",
       "      <th>user</th>\n",
       "      <th>song</th>\n",
       "      <th>timestamp</th>\n",
       "    </tr>\n",
       "  </thead>\n",
       "  <tbody>\n",
       "    <tr>\n",
       "      <th>1331567</th>\n",
       "      <td>user_Fq3E54HF</td>\n",
       "      <td>tzpXiIYf6EeS89Ws</td>\n",
       "      <td>2013-12-30 22:42</td>\n",
       "    </tr>\n",
       "  </tbody>\n",
       "</table>\n",
       "</div>"
      ],
      "text/plain": [
       "                  user              song         timestamp\n",
       "1331567  user_Fq3E54HF  tzpXiIYf6EeS89Ws  2013-12-30 22:42"
      ]
     },
     "execution_count": 18,
     "metadata": {},
     "output_type": "execute_result"
    }
   ],
   "source": [
    "listening_history_by_timestamp_asc.head(1)"
   ]
  },
  {
   "cell_type": "code",
   "execution_count": 19,
   "metadata": {
    "pycharm": {
     "name": "#%%\n"
    }
   },
   "outputs": [
    {
     "data": {
      "text/html": [
       "<div>\n",
       "<style scoped>\n",
       "    .dataframe tbody tr th:only-of-type {\n",
       "        vertical-align: middle;\n",
       "    }\n",
       "\n",
       "    .dataframe tbody tr th {\n",
       "        vertical-align: top;\n",
       "    }\n",
       "\n",
       "    .dataframe thead th {\n",
       "        text-align: right;\n",
       "    }\n",
       "</style>\n",
       "<table border=\"1\" class=\"dataframe\">\n",
       "  <thead>\n",
       "    <tr style=\"text-align: right;\">\n",
       "      <th></th>\n",
       "      <th>user</th>\n",
       "      <th>song</th>\n",
       "      <th>timestamp</th>\n",
       "    </tr>\n",
       "  </thead>\n",
       "  <tbody>\n",
       "    <tr>\n",
       "      <th>4636367</th>\n",
       "      <td>user_u4aT6q6m</td>\n",
       "      <td>ZCXukVDuFnyzOeuP</td>\n",
       "      <td>2019-03-26 11:57</td>\n",
       "    </tr>\n",
       "  </tbody>\n",
       "</table>\n",
       "</div>"
      ],
      "text/plain": [
       "                  user              song         timestamp\n",
       "4636367  user_u4aT6q6m  ZCXukVDuFnyzOeuP  2019-03-26 11:57"
      ]
     },
     "execution_count": 19,
     "metadata": {},
     "output_type": "execute_result"
    }
   ],
   "source": [
    "listening_history_by_timestamp_asc.tail(1)"
   ]
  },
  {
   "cell_type": "markdown",
   "metadata": {},
   "source": [
    "## The most played songs by users"
   ]
  },
  {
   "cell_type": "code",
   "execution_count": 20,
   "metadata": {
    "pycharm": {
     "name": "#%%\n"
    }
   },
   "outputs": [],
   "source": [
    "# listening_history.groupby('song').count().sort_values(by='user', ascending=False)"
   ]
  },
  {
   "cell_type": "code",
   "execution_count": 21,
   "metadata": {
    "pycharm": {
     "name": "#%%\n"
    }
   },
   "outputs": [
    {
     "data": {
      "text/plain": [
       "32m5suoC94ytD8Ed    82871\n",
       "YwURIu6eZDCJyuEf    33737\n",
       "vkOg9ZAiUgUT87k6    30719\n",
       "7Gsb7yKtAJNCvWez    27880\n",
       "KKmk2QJLVj2Aqsjg    25640\n",
       "                    ...  \n",
       "PPc87NauCUbIkPWN        1\n",
       "D2WHFtLqbsJF22hW        1\n",
       "8ijHH2lE89Z0sWgV        1\n",
       "l5x0RHb9W4nwjTk2        1\n",
       "Nv44mPsz174VuZ7Q        1\n",
       "Name: song, Length: 99596, dtype: int64"
      ]
     },
     "execution_count": 21,
     "metadata": {},
     "output_type": "execute_result"
    }
   ],
   "source": [
    "listening_history.song.value_counts()"
   ]
  },
  {
   "cell_type": "markdown",
   "metadata": {},
   "source": [
    "### The most played song information"
   ]
  },
  {
   "cell_type": "code",
   "execution_count": 22,
   "metadata": {
    "pycharm": {
     "name": "#%%\n"
    }
   },
   "outputs": [
    {
     "data": {
      "text/html": [
       "<div>\n",
       "<style scoped>\n",
       "    .dataframe tbody tr th:only-of-type {\n",
       "        vertical-align: middle;\n",
       "    }\n",
       "\n",
       "    .dataframe tbody tr th {\n",
       "        vertical-align: top;\n",
       "    }\n",
       "\n",
       "    .dataframe thead th {\n",
       "        text-align: right;\n",
       "    }\n",
       "</style>\n",
       "<table border=\"1\" class=\"dataframe\">\n",
       "  <thead>\n",
       "    <tr style=\"text-align: right;\">\n",
       "      <th></th>\n",
       "      <th>id</th>\n",
       "      <th>artist</th>\n",
       "      <th>song</th>\n",
       "      <th>album_name</th>\n",
       "    </tr>\n",
       "  </thead>\n",
       "  <tbody>\n",
       "    <tr>\n",
       "      <th>4836</th>\n",
       "      <td>2hFOVHrJ1IVSvCPj</td>\n",
       "      <td>Middle Kids</td>\n",
       "      <td>Never Start</td>\n",
       "      <td>Middle Kids EP</td>\n",
       "    </tr>\n",
       "  </tbody>\n",
       "</table>\n",
       "</div>"
      ],
      "text/plain": [
       "                    id       artist         song      album_name\n",
       "4836  2hFOVHrJ1IVSvCPj  Middle Kids  Never Start  Middle Kids EP"
      ]
     },
     "execution_count": 22,
     "metadata": {},
     "output_type": "execute_result"
    }
   ],
   "source": [
    "id_information.loc[id_information['id'] == '2hFOVHrJ1IVSvCPj']"
   ]
  },
  {
   "cell_type": "code",
   "execution_count": 23,
   "metadata": {
    "scrolled": true
   },
   "outputs": [
    {
     "data": {
      "text/html": [
       "<div>\n",
       "<style scoped>\n",
       "    .dataframe tbody tr th:only-of-type {\n",
       "        vertical-align: middle;\n",
       "    }\n",
       "\n",
       "    .dataframe tbody tr th {\n",
       "        vertical-align: top;\n",
       "    }\n",
       "\n",
       "    .dataframe thead th {\n",
       "        text-align: right;\n",
       "    }\n",
       "</style>\n",
       "<table border=\"1\" class=\"dataframe\">\n",
       "  <thead>\n",
       "    <tr style=\"text-align: right;\">\n",
       "      <th></th>\n",
       "      <th>id</th>\n",
       "      <th>tags</th>\n",
       "    </tr>\n",
       "  </thead>\n",
       "  <tbody>\n",
       "    <tr>\n",
       "      <th>5460</th>\n",
       "      <td>32m5suoC94ytD8Ed</td>\n",
       "      <td>trap,rap,pop,rnb</td>\n",
       "    </tr>\n",
       "  </tbody>\n",
       "</table>\n",
       "</div>"
      ],
      "text/plain": [
       "                    id              tags\n",
       "5460  32m5suoC94ytD8Ed  trap,rap,pop,rnb"
      ]
     },
     "execution_count": 23,
     "metadata": {},
     "output_type": "execute_result"
    }
   ],
   "source": [
    "id_tags.loc[id_tags['id'] == '32m5suoC94ytD8Ed']"
   ]
  },
  {
   "cell_type": "code",
   "execution_count": 24,
   "metadata": {},
   "outputs": [
    {
     "data": {
      "text/html": [
       "<div>\n",
       "<style scoped>\n",
       "    .dataframe tbody tr th:only-of-type {\n",
       "        vertical-align: middle;\n",
       "    }\n",
       "\n",
       "    .dataframe tbody tr th {\n",
       "        vertical-align: top;\n",
       "    }\n",
       "\n",
       "    .dataframe thead th {\n",
       "        text-align: right;\n",
       "    }\n",
       "</style>\n",
       "<table border=\"1\" class=\"dataframe\">\n",
       "  <thead>\n",
       "    <tr style=\"text-align: right;\">\n",
       "      <th></th>\n",
       "      <th>id</th>\n",
       "      <th>genres</th>\n",
       "    </tr>\n",
       "  </thead>\n",
       "  <tbody>\n",
       "    <tr>\n",
       "      <th>5460</th>\n",
       "      <td>32m5suoC94ytD8Ed</td>\n",
       "      <td>rap,pop</td>\n",
       "    </tr>\n",
       "  </tbody>\n",
       "</table>\n",
       "</div>"
      ],
      "text/plain": [
       "                    id   genres\n",
       "5460  32m5suoC94ytD8Ed  rap,pop"
      ]
     },
     "execution_count": 24,
     "metadata": {},
     "output_type": "execute_result"
    }
   ],
   "source": [
    "id_genres.loc[id_genres['id'] == '32m5suoC94ytD8Ed']"
   ]
  },
  {
   "cell_type": "code",
   "execution_count": 25,
   "metadata": {},
   "outputs": [
    {
     "data": {
      "text/html": [
       "<div>\n",
       "<style scoped>\n",
       "    .dataframe tbody tr th:only-of-type {\n",
       "        vertical-align: middle;\n",
       "    }\n",
       "\n",
       "    .dataframe tbody tr th {\n",
       "        vertical-align: top;\n",
       "    }\n",
       "\n",
       "    .dataframe thead th {\n",
       "        text-align: right;\n",
       "    }\n",
       "</style>\n",
       "<table border=\"1\" class=\"dataframe\">\n",
       "  <thead>\n",
       "    <tr style=\"text-align: right;\">\n",
       "      <th></th>\n",
       "      <th>id</th>\n",
       "      <th>spotify_id</th>\n",
       "      <th>popularity</th>\n",
       "      <th>release</th>\n",
       "      <th>danceability</th>\n",
       "      <th>energy</th>\n",
       "      <th>key</th>\n",
       "      <th>mode</th>\n",
       "      <th>valence</th>\n",
       "      <th>tempo</th>\n",
       "      <th>duration_ms</th>\n",
       "    </tr>\n",
       "  </thead>\n",
       "  <tbody>\n",
       "    <tr>\n",
       "      <th>5460</th>\n",
       "      <td>32m5suoC94ytD8Ed</td>\n",
       "      <td>6ocbgoVGwYJhOv1GgI9NsF</td>\n",
       "      <td>88.0</td>\n",
       "      <td>2019</td>\n",
       "      <td>0.778</td>\n",
       "      <td>0.317</td>\n",
       "      <td>1.0</td>\n",
       "      <td>0.0</td>\n",
       "      <td>0.327</td>\n",
       "      <td>140.048</td>\n",
       "      <td>178627</td>\n",
       "    </tr>\n",
       "  </tbody>\n",
       "</table>\n",
       "</div>"
      ],
      "text/plain": [
       "                    id              spotify_id  popularity  release  \\\n",
       "5460  32m5suoC94ytD8Ed  6ocbgoVGwYJhOv1GgI9NsF        88.0     2019   \n",
       "\n",
       "      danceability  energy  key  mode  valence    tempo  duration_ms  \n",
       "5460         0.778   0.317  1.0   0.0    0.327  140.048       178627  "
      ]
     },
     "execution_count": 25,
     "metadata": {},
     "output_type": "execute_result"
    }
   ],
   "source": [
    "id_metadata.loc[id_metadata['id'] == '32m5suoC94ytD8Ed']"
   ]
  },
  {
   "cell_type": "code",
   "execution_count": 26,
   "metadata": {},
   "outputs": [
    {
     "data": {
      "text/html": [
       "<div>\n",
       "<style scoped>\n",
       "    .dataframe tbody tr th:only-of-type {\n",
       "        vertical-align: middle;\n",
       "    }\n",
       "\n",
       "    .dataframe tbody tr th {\n",
       "        vertical-align: top;\n",
       "    }\n",
       "\n",
       "    .dataframe thead th {\n",
       "        text-align: right;\n",
       "    }\n",
       "</style>\n",
       "<table border=\"1\" class=\"dataframe\">\n",
       "  <thead>\n",
       "    <tr style=\"text-align: right;\">\n",
       "      <th></th>\n",
       "      <th>id</th>\n",
       "      <th>lang</th>\n",
       "    </tr>\n",
       "  </thead>\n",
       "  <tbody>\n",
       "    <tr>\n",
       "      <th>5460</th>\n",
       "      <td>32m5suoC94ytD8Ed</td>\n",
       "      <td>en</td>\n",
       "    </tr>\n",
       "  </tbody>\n",
       "</table>\n",
       "</div>"
      ],
      "text/plain": [
       "                    id lang\n",
       "5460  32m5suoC94ytD8Ed   en"
      ]
     },
     "execution_count": 26,
     "metadata": {},
     "output_type": "execute_result"
    }
   ],
   "source": [
    "id_lang.loc[id_lang['id'] == '32m5suoC94ytD8Ed']"
   ]
  },
  {
   "cell_type": "markdown",
   "metadata": {},
   "source": [
    "## Users with the most songs played"
   ]
  },
  {
   "cell_type": "code",
   "execution_count": 27,
   "metadata": {
    "pycharm": {
     "name": "#%%\n"
    }
   },
   "outputs": [
    {
     "data": {
      "text/plain": [
       "user_N9OKtRH0    500\n",
       "user_JuUy0Pi6    500\n",
       "user_Q8VSlThn    500\n",
       "user_NAE2bHHI    500\n",
       "user_Vrd41io2    500\n",
       "                ... \n",
       "user_8EtNkBPW     13\n",
       "user_KSotRo4O     11\n",
       "user_wDUNVLHd      8\n",
       "user_M2G5DnkG      4\n",
       "user_4e4K55C0      3\n",
       "Name: user, Length: 14127, dtype: int64"
      ]
     },
     "execution_count": 27,
     "metadata": {},
     "output_type": "execute_result"
    }
   ],
   "source": [
    "listening_history.user.value_counts()"
   ]
  },
  {
   "cell_type": "code",
   "execution_count": 28,
   "metadata": {
    "pycharm": {
     "name": "#%%\n"
    }
   },
   "outputs": [],
   "source": [
    "# listening_history.groupby('user').count().sort_values(by='song', ascending=False)"
   ]
  },
  {
   "cell_type": "code",
   "execution_count": 29,
   "metadata": {
    "pycharm": {
     "name": "#%%\n"
    }
   },
   "outputs": [
    {
     "data": {
      "text/html": [
       "<div>\n",
       "<style scoped>\n",
       "    .dataframe tbody tr th:only-of-type {\n",
       "        vertical-align: middle;\n",
       "    }\n",
       "\n",
       "    .dataframe tbody tr th {\n",
       "        vertical-align: top;\n",
       "    }\n",
       "\n",
       "    .dataframe thead th {\n",
       "        text-align: right;\n",
       "    }\n",
       "</style>\n",
       "<table border=\"1\" class=\"dataframe\">\n",
       "  <thead>\n",
       "    <tr style=\"text-align: right;\">\n",
       "      <th></th>\n",
       "      <th>user</th>\n",
       "      <th>timestamp</th>\n",
       "    </tr>\n",
       "    <tr>\n",
       "      <th>song</th>\n",
       "      <th></th>\n",
       "      <th></th>\n",
       "    </tr>\n",
       "  </thead>\n",
       "  <tbody>\n",
       "    <tr>\n",
       "      <th>28x5L80PQrU2SzWC</th>\n",
       "      <td>436</td>\n",
       "      <td>436</td>\n",
       "    </tr>\n",
       "    <tr>\n",
       "      <th>5RxsEogLBdXW2U8v</th>\n",
       "      <td>5</td>\n",
       "      <td>5</td>\n",
       "    </tr>\n",
       "    <tr>\n",
       "      <th>5stZqMOVZDKmzPt5</th>\n",
       "      <td>6</td>\n",
       "      <td>6</td>\n",
       "    </tr>\n",
       "    <tr>\n",
       "      <th>6PTU0EEwfcdwK9r6</th>\n",
       "      <td>5</td>\n",
       "      <td>5</td>\n",
       "    </tr>\n",
       "    <tr>\n",
       "      <th>DNxXlUUNqX4saEBc</th>\n",
       "      <td>5</td>\n",
       "      <td>5</td>\n",
       "    </tr>\n",
       "    <tr>\n",
       "      <th>EQeRaQuzupJSeJYX</th>\n",
       "      <td>5</td>\n",
       "      <td>5</td>\n",
       "    </tr>\n",
       "    <tr>\n",
       "      <th>GzacORlsoC9wIvKs</th>\n",
       "      <td>5</td>\n",
       "      <td>5</td>\n",
       "    </tr>\n",
       "    <tr>\n",
       "      <th>KKmk2QJLVj2Aqsjg</th>\n",
       "      <td>1</td>\n",
       "      <td>1</td>\n",
       "    </tr>\n",
       "    <tr>\n",
       "      <th>KnMItrBYhHFixzJT</th>\n",
       "      <td>5</td>\n",
       "      <td>5</td>\n",
       "    </tr>\n",
       "    <tr>\n",
       "      <th>TXi2DCIQzKFHA1uL</th>\n",
       "      <td>5</td>\n",
       "      <td>5</td>\n",
       "    </tr>\n",
       "    <tr>\n",
       "      <th>Td5yqNdeMj4xqPAd</th>\n",
       "      <td>5</td>\n",
       "      <td>5</td>\n",
       "    </tr>\n",
       "    <tr>\n",
       "      <th>biSvUvVl1D3wnp0F</th>\n",
       "      <td>1</td>\n",
       "      <td>1</td>\n",
       "    </tr>\n",
       "    <tr>\n",
       "      <th>hHNHxJvuJGQe3RZF</th>\n",
       "      <td>5</td>\n",
       "      <td>5</td>\n",
       "    </tr>\n",
       "    <tr>\n",
       "      <th>tgHwzfJGgNxVdGCg</th>\n",
       "      <td>5</td>\n",
       "      <td>5</td>\n",
       "    </tr>\n",
       "    <tr>\n",
       "      <th>xLt7ii72kphLnRMa</th>\n",
       "      <td>5</td>\n",
       "      <td>5</td>\n",
       "    </tr>\n",
       "    <tr>\n",
       "      <th>xMkeAOwn6AzEeYGh</th>\n",
       "      <td>1</td>\n",
       "      <td>1</td>\n",
       "    </tr>\n",
       "  </tbody>\n",
       "</table>\n",
       "</div>"
      ],
      "text/plain": [
       "                  user  timestamp\n",
       "song                             \n",
       "28x5L80PQrU2SzWC   436        436\n",
       "5RxsEogLBdXW2U8v     5          5\n",
       "5stZqMOVZDKmzPt5     6          6\n",
       "6PTU0EEwfcdwK9r6     5          5\n",
       "DNxXlUUNqX4saEBc     5          5\n",
       "EQeRaQuzupJSeJYX     5          5\n",
       "GzacORlsoC9wIvKs     5          5\n",
       "KKmk2QJLVj2Aqsjg     1          1\n",
       "KnMItrBYhHFixzJT     5          5\n",
       "TXi2DCIQzKFHA1uL     5          5\n",
       "Td5yqNdeMj4xqPAd     5          5\n",
       "biSvUvVl1D3wnp0F     1          1\n",
       "hHNHxJvuJGQe3RZF     5          5\n",
       "tgHwzfJGgNxVdGCg     5          5\n",
       "xLt7ii72kphLnRMa     5          5\n",
       "xMkeAOwn6AzEeYGh     1          1"
      ]
     },
     "execution_count": 29,
     "metadata": {},
     "output_type": "execute_result"
    }
   ],
   "source": [
    "listening_history.loc[listening_history['user'] == 'user_N9OKtRH0'].groupby('song').count()"
   ]
  },
  {
   "cell_type": "code",
   "execution_count": 30,
   "metadata": {},
   "outputs": [
    {
     "data": {
      "text/html": [
       "<div>\n",
       "<style scoped>\n",
       "    .dataframe tbody tr th:only-of-type {\n",
       "        vertical-align: middle;\n",
       "    }\n",
       "\n",
       "    .dataframe tbody tr th {\n",
       "        vertical-align: top;\n",
       "    }\n",
       "\n",
       "    .dataframe thead th {\n",
       "        text-align: right;\n",
       "    }\n",
       "</style>\n",
       "<table border=\"1\" class=\"dataframe\">\n",
       "  <thead>\n",
       "    <tr style=\"text-align: right;\">\n",
       "      <th></th>\n",
       "      <th>id</th>\n",
       "      <th>artist</th>\n",
       "      <th>song</th>\n",
       "      <th>album_name</th>\n",
       "    </tr>\n",
       "  </thead>\n",
       "  <tbody>\n",
       "    <tr>\n",
       "      <th>3853</th>\n",
       "      <td>28x5L80PQrU2SzWC</td>\n",
       "      <td>Spice Girls</td>\n",
       "      <td>Say You'll Be There</td>\n",
       "      <td>Spice</td>\n",
       "    </tr>\n",
       "  </tbody>\n",
       "</table>\n",
       "</div>"
      ],
      "text/plain": [
       "                    id       artist                 song album_name\n",
       "3853  28x5L80PQrU2SzWC  Spice Girls  Say You'll Be There      Spice"
      ]
     },
     "execution_count": 30,
     "metadata": {},
     "output_type": "execute_result"
    }
   ],
   "source": [
    "id_information.loc[id_information['id'] == '28x5L80PQrU2SzWC']"
   ]
  },
  {
   "cell_type": "markdown",
   "metadata": {},
   "source": [
    "## Songs characteristics"
   ]
  },
  {
   "cell_type": "code",
   "execution_count": 31,
   "metadata": {},
   "outputs": [
    {
     "name": "stdout",
     "output_type": "stream",
     "text": [
      "<class 'pandas.core.frame.DataFrame'>\n",
      "RangeIndex: 109269 entries, 0 to 109268\n",
      "Data columns (total 11 columns):\n",
      " #   Column        Non-Null Count   Dtype  \n",
      "---  ------        --------------   -----  \n",
      " 0   id            109269 non-null  object \n",
      " 1   spotify_id    109269 non-null  object \n",
      " 2   popularity    109269 non-null  float64\n",
      " 3   release       109269 non-null  int64  \n",
      " 4   danceability  109269 non-null  float64\n",
      " 5   energy        109269 non-null  float64\n",
      " 6   key           109269 non-null  float64\n",
      " 7   mode          109269 non-null  float64\n",
      " 8   valence       109269 non-null  float64\n",
      " 9   tempo         109269 non-null  float64\n",
      " 10  duration_ms   109269 non-null  int64  \n",
      "dtypes: float64(7), int64(2), object(2)\n",
      "memory usage: 9.2+ MB\n"
     ]
    }
   ],
   "source": [
    "id_metadata.info()"
   ]
  },
  {
   "cell_type": "code",
   "execution_count": 32,
   "metadata": {},
   "outputs": [
    {
     "data": {
      "text/plain": [
       "tempo\n",
       "0.000      18\n",
       "32.528      1\n",
       "33.000      1\n",
       "34.427      1\n",
       "35.202      1\n",
       "           ..\n",
       "220.356     1\n",
       "221.112     1\n",
       "221.947     1\n",
       "226.130     1\n",
       "242.903     1\n",
       "Length: 55988, dtype: int64"
      ]
     },
     "execution_count": 32,
     "metadata": {},
     "output_type": "execute_result"
    }
   ],
   "source": [
    "id_metadata.groupby('tempo').size()\n",
    "# id_metadata.groupby('tempo').size().plot(kind='bar', title='Songs by years',\n",
    "#                                            ylabel='size', xlabel='year', figsize=(25, 10))"
   ]
  },
  {
   "cell_type": "code",
   "execution_count": 33,
   "metadata": {},
   "outputs": [
    {
     "data": {
      "text/plain": [
       "<Axes: title={'center': 'Songs by years'}, xlabel='year', ylabel='size'>"
      ]
     },
     "execution_count": 33,
     "metadata": {},
     "output_type": "execute_result"
    },
    {
     "data": {
      "image/png": "[encoded data removed]",
      "text/plain": [
       "<Figure size 2500x1000 with 1 Axes>"
      ]
     },
     "metadata": {},
     "output_type": "display_data"
    }
   ],
   "source": [
    "id_metadata.groupby('release').size().plot(kind='bar', title='Songs by years',\n",
    "                                           ylabel='size', xlabel='year', figsize=(25, 10))"
   ]
  },
  {
   "cell_type": "code",
   "execution_count": 34,
   "metadata": {},
   "outputs": [
    {
     "data": {
      "text/plain": [
       "<Axes: title={'center': 'Songs by popularity'}, xlabel='popularity', ylabel='size'>"
      ]
     },
     "execution_count": 34,
     "metadata": {},
     "output_type": "execute_result"
    },
    {
     "data": {
      "image/png": "[encoded data removed]",
      "text/plain": [
       "<Figure size 2500x1000 with 1 Axes>"
      ]
     },
     "metadata": {},
     "output_type": "display_data"
    }
   ],
   "source": [
    "id_metadata.groupby('popularity').size().plot(kind='bar', title='Songs by popularity',\n",
    "                                           ylabel='size', xlabel='popularity', figsize=(25, 10))"
   ]
  },
  {
   "cell_type": "markdown",
   "metadata": {},
   "source": [
    "### Average values by years"
   ]
  },
  {
   "cell_type": "code",
   "execution_count": 35,
   "metadata": {
    "scrolled": true
   },
   "outputs": [
    {
     "name": "stderr",
     "output_type": "stream",
     "text": [
      "C:\\Users\\olko\\AppData\\Local\\Temp\\ipykernel_14684\\3047819961.py:2: FutureWarning: The default value of numeric_only in DataFrameGroupBy.mean is deprecated. In a future version, numeric_only will default to False. Either specify numeric_only or select only columns which should be valid for the function.\n",
      "  mean_values_by_years = id_metadata.groupby('release').mean().reset_index()\n"
     ]
    },
    {
     "ename": "NameError",
     "evalue": "name 'px' is not defined",
     "output_type": "error",
     "traceback": [
      "\u001b[1;31m---------------------------------------------------------------------------\u001b[0m",
      "\u001b[1;31mNameError\u001b[0m                                 Traceback (most recent call last)",
      "Cell \u001b[1;32mIn[35], line 6\u001b[0m\n\u001b[0;32m      3\u001b[0m mean_values_by_years\u001b[38;5;241m.\u001b[39mwhere(mean_values_by_years[\u001b[38;5;124m\"\u001b[39m\u001b[38;5;124mrelease\u001b[39m\u001b[38;5;124m\"\u001b[39m] \u001b[38;5;241m>\u001b[39m \u001b[38;5;241m1800\u001b[39m, inplace \u001b[38;5;241m=\u001b[39m \u001b[38;5;28;01mTrue\u001b[39;00m)\n\u001b[0;32m      5\u001b[0m \u001b[38;5;28;01mfor\u001b[39;00m column \u001b[38;5;129;01min\u001b[39;00m sound_features:\n\u001b[1;32m----> 6\u001b[0m     fig \u001b[38;5;241m=\u001b[39m \u001b[43mpx\u001b[49m\u001b[38;5;241m.\u001b[39mline(mean_values_by_years, x\u001b[38;5;241m=\u001b[39m\u001b[38;5;124m'\u001b[39m\u001b[38;5;124mrelease\u001b[39m\u001b[38;5;124m'\u001b[39m, y\u001b[38;5;241m=\u001b[39mcolumn)\n\u001b[0;32m      7\u001b[0m     fig\u001b[38;5;241m.\u001b[39mshow()\n",
      "\u001b[1;31mNameError\u001b[0m: name 'px' is not defined"
     ]
    }
   ],
   "source": [
    "sound_features = ['popularity', 'danceability', 'energy', 'key', 'mode', 'valence', 'tempo', 'duration_ms']\n",
    "mean_values_by_years = id_metadata.groupby('release').mean().reset_index()\n",
    "mean_values_by_years.where(mean_values_by_years[\"release\"] > 1800, inplace = True)\n",
    "\n",
    "for column in sound_features:\n",
    "    fig = px.line(mean_values_by_years, x='release', y=column)\n",
    "    fig.show()"
   ]
  },
  {
   "cell_type": "code",
   "execution_count": null,
   "metadata": {},
   "outputs": [],
   "source": [
    "listening_history.head(10000).to_csv(\"listening_history_reduced.csv\")"
   ]
  }
 ],
 "metadata": {
  "kernelspec": {
   "display_name": "Python 3 (ipykernel)",
   "language": "python",
   "name": "python3"
  },
  "language_info": {
   "codemirror_mode": {
    "name": "ipython",
    "version": 3
   },
   "file_extension": ".py",
   "mimetype": "text/x-python",
   "name": "python",
   "nbconvert_exporter": "python",
   "pygments_lexer": "ipython3",
   "version": "3.9.13"
  }
 },
 "nbformat": 4,
 "nbformat_minor": 1
}
