{
 "cells": [
  {
   "cell_type": "code",
   "execution_count": 2,
   "id": "65d83bf1",
   "metadata": {},
   "outputs": [],
   "source": [
    "import numpy as np\n",
    "import pandas as pd\n",
    "import matplotlib.pyplot as plt\n",
    "from sklearn.utils import shuffle\n",
    "from sklearn.preprocessing import LabelEncoder\n",
    "from keras.models import Model\n",
    "from keras.layers import Input, Embedding, Dot, Add, Flatten, Dense, Concatenate\n",
    "from keras.layers import Dropout, BatchNormalization, Activation\n",
    "from keras.regularizers import l2\n",
    "from keras.optimizers import SGD, Adam\n",
    "from keras.utils import to_categorical"
   ]
  },
  {
   "cell_type": "code",
   "execution_count": 3,
   "id": "d02be92f",
   "metadata": {},
   "outputs": [
    {
     "data": {
      "text/html": [
       "<div>\n",
       "<style scoped>\n",
       "    .dataframe tbody tr th:only-of-type {\n",
       "        vertical-align: middle;\n",
       "    }\n",
       "\n",
       "    .dataframe tbody tr th {\n",
       "        vertical-align: top;\n",
       "    }\n",
       "\n",
       "    .dataframe thead th {\n",
       "        text-align: right;\n",
       "    }\n",
       "</style>\n",
       "<table border=\"1\" class=\"dataframe\">\n",
       "  <thead>\n",
       "    <tr style=\"text-align: right;\">\n",
       "      <th></th>\n",
       "      <th>Unnamed: 0</th>\n",
       "      <th>user</th>\n",
       "      <th>song</th>\n",
       "      <th>timestamp</th>\n",
       "    </tr>\n",
       "  </thead>\n",
       "  <tbody>\n",
       "    <tr>\n",
       "      <th>0</th>\n",
       "      <td>0</td>\n",
       "      <td>user_007XIjOr</td>\n",
       "      <td>DaTQ53TUmfP93FSr</td>\n",
       "      <td>2019-02-20 12:28</td>\n",
       "    </tr>\n",
       "    <tr>\n",
       "      <th>1</th>\n",
       "      <td>1</td>\n",
       "      <td>user_007XIjOr</td>\n",
       "      <td>dGeyvi5WCOjDU7da</td>\n",
       "      <td>2019-02-20 12:35</td>\n",
       "    </tr>\n",
       "    <tr>\n",
       "      <th>2</th>\n",
       "      <td>2</td>\n",
       "      <td>user_007XIjOr</td>\n",
       "      <td>qUm54NYOjeFhmKYx</td>\n",
       "      <td>2019-02-20 12:48</td>\n",
       "    </tr>\n",
       "    <tr>\n",
       "      <th>3</th>\n",
       "      <td>3</td>\n",
       "      <td>user_007XIjOr</td>\n",
       "      <td>FtnuMT1DlevSR2n5</td>\n",
       "      <td>2019-02-20 12:52</td>\n",
       "    </tr>\n",
       "    <tr>\n",
       "      <th>4</th>\n",
       "      <td>4</td>\n",
       "      <td>user_007XIjOr</td>\n",
       "      <td>LHETTZcSZLeaVOGh</td>\n",
       "      <td>2019-02-20 13:09</td>\n",
       "    </tr>\n",
       "  </tbody>\n",
       "</table>\n",
       "</div>"
      ],
      "text/plain": [
       "   Unnamed: 0           user              song         timestamp\n",
       "0           0  user_007XIjOr  DaTQ53TUmfP93FSr  2019-02-20 12:28\n",
       "1           1  user_007XIjOr  dGeyvi5WCOjDU7da  2019-02-20 12:35\n",
       "2           2  user_007XIjOr  qUm54NYOjeFhmKYx  2019-02-20 12:48\n",
       "3           3  user_007XIjOr  FtnuMT1DlevSR2n5  2019-02-20 12:52\n",
       "4           4  user_007XIjOr  LHETTZcSZLeaVOGh  2019-02-20 13:09"
      ]
     },
     "execution_count": 3,
     "metadata": {},
     "output_type": "execute_result"
    }
   ],
   "source": [
    "# Load data\n",
    "metadata_path = './id_metadata.csv'\n",
    "listening_history_path = './lh_reduced.csv'\n",
    "metadata_df = pd.read_csv(metadata_path, delimiter='\\t')\n",
    "df = pd.read_csv(listening_history_path)\n",
    "df.head()"
   ]
  },
  {
   "cell_type": "code",
   "execution_count": 4,
   "id": "39f3a6e6",
   "metadata": {},
   "outputs": [
    {
     "data": {
      "text/plain": [
       "((23256,), (282,))"
      ]
     },
     "execution_count": 4,
     "metadata": {},
     "output_type": "execute_result"
    }
   ],
   "source": [
    "unique_names_song = df.song.unique()\n",
    "unique_names_user = df.user.unique()\n",
    "unique_names_song.shape, unique_names_user.shape"
   ]
  },
  {
   "cell_type": "code",
   "execution_count": 5,
   "id": "4365216d",
   "metadata": {},
   "outputs": [],
   "source": [
    "# Calculate song popularity\n",
    "song_popularity = df['song'].value_counts() / len(unique_names_song)\n",
    "df['song_popularity'] = df['song'].map(song_popularity)\n",
    "\n",
    "# Create an empty interaction matrix\n",
    "interaction_matrix = np.zeros((df['user'].nunique(), len(unique_names_song)))\n",
    "\n",
    "# Map users and songs to matrix indices\n",
    "user_indices = {user: idx for idx, user in enumerate(df['user'].unique())}\n",
    "song_indices = {song: idx for idx, song in enumerate(unique_names_song)}\n",
    "\n",
    "# Create a DataFrame from the interaction matrix\n",
    "user_ids, song_ids, interactions = [], [], []\n",
    "for user in user_indices:\n",
    "    for song in song_indices:\n",
    "        user_ids.append(user_indices[user])\n",
    "        song_ids.append(song_indices[song])\n",
    "        interactions.append(interaction_matrix[user_indices[user], song_indices[song]])\n",
    "\n",
    "interaction_df = pd.DataFrame({'user_id': user_ids, 'song_id': song_ids, 'interaction': interactions})"
   ]
  },
  {
   "cell_type": "code",
   "execution_count": 7,
   "id": "fcb7f8db",
   "metadata": {},
   "outputs": [
    {
     "name": "stdout",
     "output_type": "stream",
     "text": [
      "282 23256\n"
     ]
    },
    {
     "data": {
      "text/plain": [
       "(5246553, 3)"
      ]
     },
     "execution_count": 7,
     "metadata": {},
     "output_type": "execute_result"
    }
   ],
   "source": [
    "user_encoder = LabelEncoder()\n",
    "song_encoder = LabelEncoder()\n",
    "df['user_id'] = user_encoder.fit_transform(df['user'])\n",
    "df['song_id'] = song_encoder.fit_transform(df['song'])\n",
    "\n",
    "N = df.user_id.nunique() # Number of users\n",
    "M = df.song_id.nunique() # Number of songs\n",
    "\n",
    "print(N , M)\n",
    "\n",
    "from sklearn.model_selection import train_test_split\n",
    "\n",
    "df_train, df_test = train_test_split(interaction_df, test_size=0.2, random_state=42)\n",
    "df_train.shape"
   ]
  },
  {
   "cell_type": "code",
   "execution_count": 62,
   "id": "179b53e2",
   "metadata": {
    "scrolled": false
   },
   "outputs": [
    {
     "name": "stderr",
     "output_type": "stream",
     "text": [
      "WARNING:absl:`lr` is deprecated in Keras optimizer, please use `learning_rate` or use the legacy optimizer, e.g.,tf.keras.optimizers.legacy.SGD.\n"
     ]
    },
    {
     "name": "stdout",
     "output_type": "stream",
     "text": [
      "Epoch 1/25\n",
      "40989/40989 [==============================] - 303s 7ms/step - loss: 7.6077e-04 - mse: 7.6077e-04 - val_loss: 4.4247e-04 - val_mse: 4.4247e-04\n",
      "Epoch 2/25\n",
      "40989/40989 [==============================] - 300s 7ms/step - loss: 3.2838e-04 - mse: 3.2838e-04 - val_loss: 2.3312e-04 - val_mse: 2.3312e-04\n",
      "Epoch 3/25\n",
      "40989/40989 [==============================] - 300s 7ms/step - loss: 1.7425e-04 - mse: 1.7425e-04 - val_loss: 1.2926e-04 - val_mse: 1.2926e-04\n",
      "Epoch 4/25\n",
      "40989/40989 [==============================] - 301s 7ms/step - loss: 9.9092e-05 - mse: 9.9092e-05 - val_loss: 7.6761e-05 - val_mse: 7.6761e-05\n",
      "Epoch 5/25\n",
      "40989/40989 [==============================] - 303s 7ms/step - loss: 6.1443e-05 - mse: 6.1443e-05 - val_loss: 5.0152e-05 - val_mse: 5.0152e-05\n",
      "Epoch 6/25\n",
      "40989/40989 [==============================] - 314s 8ms/step - loss: 4.2250e-05 - mse: 4.2250e-05 - val_loss: 3.6464e-05 - val_mse: 3.6464e-05\n",
      "Epoch 7/25\n",
      "40989/40989 [==============================] - 324s 8ms/step - loss: 3.2191e-05 - mse: 3.2191e-05 - val_loss: 2.9167e-05 - val_mse: 2.9167e-05\n",
      "Epoch 8/25\n",
      "40989/40989 [==============================] - 318s 8ms/step - loss: 2.6672e-05 - mse: 2.6672e-05 - val_loss: 2.4919e-05 - val_mse: 2.4919e-05\n",
      "Epoch 9/25\n",
      "40989/40989 [==============================] - 316s 8ms/step - loss: 2.3423e-05 - mse: 2.3423e-05 - val_loss: 2.2350e-05 - val_mse: 2.2350e-05\n",
      "Epoch 10/25\n",
      "40989/40989 [==============================] - 339s 8ms/step - loss: 2.1324e-05 - mse: 2.1324e-05 - val_loss: 2.0602e-05 - val_mse: 2.0602e-05\n",
      "Epoch 11/25\n",
      "40989/40989 [==============================] - 320s 8ms/step - loss: 1.9814e-05 - mse: 1.9814e-05 - val_loss: 1.9313e-05 - val_mse: 1.9313e-05\n",
      "Epoch 12/25\n",
      "40989/40989 [==============================] - 321s 8ms/step - loss: 1.8627e-05 - mse: 1.8627e-05 - val_loss: 1.8209e-05 - val_mse: 1.8209e-05\n",
      "Epoch 13/25\n",
      "40989/40989 [==============================] - 319s 8ms/step - loss: 1.7617e-05 - mse: 1.7617e-05 - val_loss: 1.7328e-05 - val_mse: 1.7328e-05\n",
      "Epoch 14/25\n",
      "40989/40989 [==============================] - 315s 8ms/step - loss: 1.6716e-05 - mse: 1.6716e-05 - val_loss: 1.6383e-05 - val_mse: 1.6383e-05\n",
      "Epoch 15/25\n",
      "40989/40989 [==============================] - 313s 8ms/step - loss: 1.5891e-05 - mse: 1.5891e-05 - val_loss: 1.5595e-05 - val_mse: 1.5595e-05\n",
      "Epoch 16/25\n",
      "40989/40989 [==============================] - 323s 8ms/step - loss: 1.5120e-05 - mse: 1.5120e-05 - val_loss: 1.4872e-05 - val_mse: 1.4872e-05\n",
      "Epoch 17/25\n",
      "40989/40989 [==============================] - 317s 8ms/step - loss: 1.4394e-05 - mse: 1.4394e-05 - val_loss: 1.4138e-05 - val_mse: 1.4138e-05\n",
      "Epoch 18/25\n",
      "40989/40989 [==============================] - 307s 7ms/step - loss: 1.3707e-05 - mse: 1.3707e-05 - val_loss: 1.3499e-05 - val_mse: 1.3499e-05\n",
      "Epoch 19/25\n",
      "40989/40989 [==============================] - 319s 8ms/step - loss: 1.3057e-05 - mse: 1.3057e-05 - val_loss: 1.2835e-05 - val_mse: 1.2835e-05\n",
      "Epoch 20/25\n",
      "40989/40989 [==============================] - 320s 8ms/step - loss: 1.2437e-05 - mse: 1.2437e-05 - val_loss: 1.2229e-05 - val_mse: 1.2229e-05\n",
      "Epoch 21/25\n",
      "40989/40989 [==============================] - 314s 8ms/step - loss: 1.1849e-05 - mse: 1.1849e-05 - val_loss: 1.1658e-05 - val_mse: 1.1658e-05\n",
      "Epoch 22/25\n",
      "40989/40989 [==============================] - 359s 9ms/step - loss: 1.1288e-05 - mse: 1.1288e-05 - val_loss: 1.1121e-05 - val_mse: 1.1121e-05\n",
      "Epoch 23/25\n",
      "40989/40989 [==============================] - 336s 8ms/step - loss: 1.0757e-05 - mse: 1.0757e-05 - val_loss: 1.0601e-05 - val_mse: 1.0601e-05\n",
      "Epoch 24/25\n",
      "40989/40989 [==============================] - 325s 8ms/step - loss: 1.0248e-05 - mse: 1.0248e-05 - val_loss: 1.0101e-05 - val_mse: 1.0101e-05\n",
      "Epoch 25/25\n",
      "40989/40989 [==============================] - 327s 8ms/step - loss: 9.7665e-06 - mse: 9.7665e-06 - val_loss: 9.6182e-06 - val_mse: 9.6182e-06\n"
     ]
    },
    {
     "data": {
      "image/png": "[encoded data removed]",
      "text/plain": [
       "<Figure size 432x288 with 1 Axes>"
      ]
     },
     "metadata": {
      "needs_background": "light"
     },
     "output_type": "display_data"
    },
    {
     "data": {
      "image/png": "[encoded data removed]",
      "text/plain": [
       "<Figure size 432x288 with 1 Axes>"
      ]
     },
     "metadata": {
      "needs_background": "light"
     },
     "output_type": "display_data"
    }
   ],
   "source": [
    "K = 50  # Latent dimensionality\n",
    "mu = df_train.interaction.mean()  # Mean interaction for normalization\n",
    "epochs = 25\n",
    "reg = 0.1  # Regularization penalty\n",
    "\n",
    "u = Input(shape=(1,))\n",
    "m = Input(shape=(1,))\n",
    "u_embedding = Embedding(N, K)(u) # (N, 1, K)\n",
    "m_embedding = Embedding(M, K)(m) # (N, 1, K)\n",
    "\n",
    "\n",
    "##### main branch\n",
    "u_bias = Embedding(N, 1)(u) # (N, 1, 1)\n",
    "m_bias = Embedding(M, 1)(m) # (N, 1, 1)\n",
    "x = Dot(axes=2)([u_embedding, m_embedding]) # (N, 1, 1)\n",
    "x = Add()([x, u_bias, m_bias])\n",
    "x = Flatten()(x) # (N, 1)\n",
    "\n",
    "\n",
    "##### side branch\n",
    "u_embedding = Flatten()(u_embedding) # (N, K)\n",
    "m_embedding = Flatten()(m_embedding) # (N, K)\n",
    "y = Concatenate()([u_embedding, m_embedding]) # (N, 2K)\n",
    "y = Dense(400)(y)\n",
    "y = Activation('elu')(y)\n",
    "y = Dropout(0.3)(y)\n",
    "y = Dense(400)(y)\n",
    "y = Activation('elu')(y)\n",
    "y = Dropout(0.3)(y)\n",
    "y = Dense(1)(y)\n",
    "\n",
    "\n",
    "##### merge\n",
    "x = Add()([x, y])\n",
    "\n",
    "model = Model(inputs=[u, m], outputs=x)\n",
    "model.compile(\n",
    "  loss='mse',\n",
    "  # optimizer='adam',\n",
    "  #optimizer=Adam(lr=0.001),\n",
    "  optimizer=SGD(lr=0.08, momentum=0.9),\n",
    "  metrics=['mse'],\n",
    ")\n",
    "\n",
    "# Now, train the model\n",
    "r = model.fit(\n",
    "  x=[df_train.user_id.values, df_train.song_id.values],\n",
    "  y=df_train.interaction.values - mu,\n",
    "  epochs=epochs,\n",
    "  batch_size=128,\n",
    "  validation_data=(\n",
    "    [df_test.user_id.values, df_test.song_id.values],\n",
    "    df_test.interaction.values - mu\n",
    "  )\n",
    ")\n",
    "\n",
    "plt.plot(r.history['loss'], label=\"train loss\")\n",
    "plt.plot(r.history['val_loss'], label=\"test loss\")\n",
    "plt.legend()\n",
    "plt.show()\n",
    "\n",
    "# plot mse\n",
    "plt.plot(r.history['mse'], label=\"train mse\")\n",
    "plt.plot(r.history['val_mse'], label=\"test mse\")\n",
    "plt.legend()\n",
    "plt.show()"
   ]
  },
  {
   "cell_type": "code",
   "execution_count": 84,
   "id": "508212e5",
   "metadata": {},
   "outputs": [
    {
     "name": "stdout",
     "output_type": "stream",
     "text": [
      "727/727 [==============================] - 1s 2ms/step\n",
      "Top 10 recommended song IDs for user 270 are: ['l1R2SCyFUPiIYB19' 'pezvy1q7lK7X5NpK' '5utAtxO4Uvjv63gZ'\n",
      " 'Mqu1j2KwTVHWY9KC' 'mvXKgYzhUQIMIly9' '5DK0yRIW8JOujBLo'\n",
      " 'DvocIPFqnF91fW4v' '1Czn5lNChBDhqaYq' '87Ct1HWIQ8QBLuP9'\n",
      " '0gvNASK72uWxpQiT']\n"
     ]
    }
   ],
   "source": [
    "user_ids_test = df_test.user_id.values\n",
    "song_ids_test = df_test.song_id.values\n",
    "\n",
    "# Choose a specific user\n",
    "specific_user_id = user_ids_test[5]  # For example, taking the first user in the test set\n",
    "\n",
    "# Prepare input data: Repeat the specific user ID for each song\n",
    "user_input = np.array([specific_user_id] * M)  # M is the total number of songs\n",
    "\n",
    "# All song IDs\n",
    "song_input = np.array(range(M))\n",
    "\n",
    "# Make predictions for this user with all songs\n",
    "predicted_interactions = model.predict([user_input, song_input])\n",
    "\n",
    "# Convert predictions back to the original scale\n",
    "predicted_interactions = predicted_interactions.flatten() + mu\n",
    "\n",
    "top_10_indices = np.argsort(predicted_interactions)[::-1][:10]\n",
    "\n",
    "# Get the original song IDs for these top 10 songs\n",
    "top_10_song_ids = song_encoder.inverse_transform(top_10_indices)\n",
    "\n",
    "# Output the recommended songs\n",
    "print(\"Top 10 recommended song IDs for user\", specific_user_id, \"are:\", top_10_song_ids)"
   ]
  },
  {
   "cell_type": "code",
   "execution_count": 85,
   "id": "ae6bcd2f",
   "metadata": {},
   "outputs": [
    {
     "data": {
      "text/html": [
       "<div>\n",
       "<style scoped>\n",
       "    .dataframe tbody tr th:only-of-type {\n",
       "        vertical-align: middle;\n",
       "    }\n",
       "\n",
       "    .dataframe tbody tr th {\n",
       "        vertical-align: top;\n",
       "    }\n",
       "\n",
       "    .dataframe thead th {\n",
       "        text-align: right;\n",
       "    }\n",
       "</style>\n",
       "<table border=\"1\" class=\"dataframe\">\n",
       "  <thead>\n",
       "    <tr style=\"text-align: right;\">\n",
       "      <th></th>\n",
       "      <th>Unnamed: 0</th>\n",
       "      <th>user</th>\n",
       "      <th>song</th>\n",
       "      <th>timestamp</th>\n",
       "      <th>song_popularity</th>\n",
       "      <th>user_id</th>\n",
       "      <th>song_id</th>\n",
       "    </tr>\n",
       "  </thead>\n",
       "  <tbody>\n",
       "    <tr>\n",
       "      <th>15480</th>\n",
       "      <td>15480</td>\n",
       "      <td>user_09y1WGSJ</td>\n",
       "      <td>l1R2SCyFUPiIYB19</td>\n",
       "      <td>2019-01-12 18:52</td>\n",
       "      <td>0.000129</td>\n",
       "      <td>41</td>\n",
       "      <td>17635</td>\n",
       "    </tr>\n",
       "    <tr>\n",
       "      <th>16386</th>\n",
       "      <td>16386</td>\n",
       "      <td>user_0BX9L05X</td>\n",
       "      <td>l1R2SCyFUPiIYB19</td>\n",
       "      <td>2019-02-13 18:43</td>\n",
       "      <td>0.000129</td>\n",
       "      <td>43</td>\n",
       "      <td>17635</td>\n",
       "    </tr>\n",
       "    <tr>\n",
       "      <th>85806</th>\n",
       "      <td>85806</td>\n",
       "      <td>user_11DRPTDc</td>\n",
       "      <td>l1R2SCyFUPiIYB19</td>\n",
       "      <td>2019-01-24 18:41</td>\n",
       "      <td>0.000129</td>\n",
       "      <td>241</td>\n",
       "      <td>17635</td>\n",
       "    </tr>\n",
       "  </tbody>\n",
       "</table>\n",
       "</div>"
      ],
      "text/plain": [
       "       Unnamed: 0           user              song         timestamp  \\\n",
       "15480       15480  user_09y1WGSJ  l1R2SCyFUPiIYB19  2019-01-12 18:52   \n",
       "16386       16386  user_0BX9L05X  l1R2SCyFUPiIYB19  2019-02-13 18:43   \n",
       "85806       85806  user_11DRPTDc  l1R2SCyFUPiIYB19  2019-01-24 18:41   \n",
       "\n",
       "       song_popularity  user_id  song_id  \n",
       "15480         0.000129       41    17635  \n",
       "16386         0.000129       43    17635  \n",
       "85806         0.000129      241    17635  "
      ]
     },
     "execution_count": 85,
     "metadata": {},
     "output_type": "execute_result"
    }
   ],
   "source": [
    "#original_user_ids = user_encoder.inverse_transform(df.user)\n",
    "df[df.song == top_10_song_ids[0]]"
   ]
  },
  {
   "cell_type": "code",
   "execution_count": 86,
   "id": "d7577570",
   "metadata": {},
   "outputs": [
    {
     "data": {
      "text/html": [
       "<div>\n",
       "<style scoped>\n",
       "    .dataframe tbody tr th:only-of-type {\n",
       "        vertical-align: middle;\n",
       "    }\n",
       "\n",
       "    .dataframe tbody tr th {\n",
       "        vertical-align: top;\n",
       "    }\n",
       "\n",
       "    .dataframe thead th {\n",
       "        text-align: right;\n",
       "    }\n",
       "</style>\n",
       "<table border=\"1\" class=\"dataframe\">\n",
       "  <thead>\n",
       "    <tr style=\"text-align: right;\">\n",
       "      <th></th>\n",
       "      <th>id</th>\n",
       "      <th>artist</th>\n",
       "      <th>song</th>\n",
       "      <th>album_name</th>\n",
       "    </tr>\n",
       "  </thead>\n",
       "  <tbody>\n",
       "    <tr>\n",
       "      <th>0</th>\n",
       "      <td>0009fFIM1eYThaPg</td>\n",
       "      <td>Cheryl</td>\n",
       "      <td>Rain on Me</td>\n",
       "      <td>3 Words</td>\n",
       "    </tr>\n",
       "    <tr>\n",
       "      <th>1</th>\n",
       "      <td>0010xmHR6UICBOYT</td>\n",
       "      <td>Oddisee</td>\n",
       "      <td>After Thoughts</td>\n",
       "      <td>The Beauty in All</td>\n",
       "    </tr>\n",
       "    <tr>\n",
       "      <th>2</th>\n",
       "      <td>002Jyd0vN4HyCpqL</td>\n",
       "      <td>Blue Öyster Cult</td>\n",
       "      <td>ME 262</td>\n",
       "      <td>Secret Treaties</td>\n",
       "    </tr>\n",
       "    <tr>\n",
       "      <th>3</th>\n",
       "      <td>006TYKNjNxWjfKjy</td>\n",
       "      <td>Rhapsody</td>\n",
       "      <td>Flames of Revenge</td>\n",
       "      <td>Legendary Years (Re-Recorded)</td>\n",
       "    </tr>\n",
       "    <tr>\n",
       "      <th>4</th>\n",
       "      <td>007LIJOPQ4Sb98qV</td>\n",
       "      <td>The Chameleons</td>\n",
       "      <td>Nostalgia</td>\n",
       "      <td>What Does Anything Mean? Basically (2009 Remas...</td>\n",
       "    </tr>\n",
       "  </tbody>\n",
       "</table>\n",
       "</div>"
      ],
      "text/plain": [
       "                 id            artist               song  \\\n",
       "0  0009fFIM1eYThaPg            Cheryl         Rain on Me   \n",
       "1  0010xmHR6UICBOYT           Oddisee     After Thoughts   \n",
       "2  002Jyd0vN4HyCpqL  Blue Öyster Cult             ME 262   \n",
       "3  006TYKNjNxWjfKjy          Rhapsody  Flames of Revenge   \n",
       "4  007LIJOPQ4Sb98qV    The Chameleons          Nostalgia   \n",
       "\n",
       "                                          album_name  \n",
       "0                                            3 Words  \n",
       "1                                  The Beauty in All  \n",
       "2                                    Secret Treaties  \n",
       "3                      Legendary Years (Re-Recorded)  \n",
       "4  What Does Anything Mean? Basically (2009 Remas...  "
      ]
     },
     "execution_count": 86,
     "metadata": {},
     "output_type": "execute_result"
    }
   ],
   "source": [
    "id_information = pd.read_csv('./id_information.csv', sep='\\t')\n",
    "id_information.head()"
   ]
  },
  {
   "cell_type": "code",
   "execution_count": 93,
   "id": "4f2917d6",
   "metadata": {},
   "outputs": [
    {
     "data": {
      "text/html": [
       "<div>\n",
       "<style scoped>\n",
       "    .dataframe tbody tr th:only-of-type {\n",
       "        vertical-align: middle;\n",
       "    }\n",
       "\n",
       "    .dataframe tbody tr th {\n",
       "        vertical-align: top;\n",
       "    }\n",
       "\n",
       "    .dataframe thead th {\n",
       "        text-align: right;\n",
       "    }\n",
       "</style>\n",
       "<table border=\"1\" class=\"dataframe\">\n",
       "  <thead>\n",
       "    <tr style=\"text-align: right;\">\n",
       "      <th></th>\n",
       "      <th>id</th>\n",
       "      <th>artist</th>\n",
       "      <th>song</th>\n",
       "      <th>album_name</th>\n",
       "    </tr>\n",
       "  </thead>\n",
       "  <tbody>\n",
       "    <tr>\n",
       "      <th>40274</th>\n",
       "      <td>Mqu1j2KwTVHWY9KC</td>\n",
       "      <td>Altered Images</td>\n",
       "      <td>Happy Birthday</td>\n",
       "      <td>HAPPY BIRTHDAY</td>\n",
       "    </tr>\n",
       "  </tbody>\n",
       "</table>\n",
       "</div>"
      ],
      "text/plain": [
       "                     id          artist            song      album_name\n",
       "40274  Mqu1j2KwTVHWY9KC  Altered Images  Happy Birthday  HAPPY BIRTHDAY"
      ]
     },
     "execution_count": 93,
     "metadata": {},
     "output_type": "execute_result"
    }
   ],
   "source": [
    "id_information[id_information.id == top_10_song_ids[3]]"
   ]
  },
  {
   "cell_type": "code",
   "execution_count": 88,
   "id": "b694f0ef",
   "metadata": {
    "scrolled": true
   },
   "outputs": [
    {
     "data": {
      "text/plain": [
       "array(['kJeDKXoAmvMbt0aw', 'ELZZk6mUQosK2rgf', '3ovo5zTCqINDQLVE',\n",
       "       'TfDcisAgz7sLIi7w', 'tkwc6wiBvkiVYm8F', 'OlHLkCDZ7IGTTHwO',\n",
       "       'hKElxMyzEVpytG4E', 'BNccjmquagZc4cFn', 'qwAR3KymFSkwc7BO',\n",
       "       'KzvxC6Z4nTwd01VW', 'd2OMjn1XiPXTwz7v', 'bsrJbdryqNzHTJdj',\n",
       "       'IPRnNtIdGOSuGWam', 'NwDPvS4wmJTviUaT', 'dlMwQgylGglSCeUQ',\n",
       "       'tGIM8sloXbzyY7FL', 'kdT7sQ5kDQ3pZZKg', 'IPz3o9EAZyjKdup5',\n",
       "       'Ht77zi3Kq2oQjLCs', 'pUrOPe2PERkHOu7n', 'o2LcK38b4mFLa55g',\n",
       "       '7my30NrFPVdYPQjQ', 'CoGHDHi233BbLyDo', 'Yspm1Y9yTgWd3maJ',\n",
       "       'ebu87AQPOzBXizSM', 'sG6GtcCQtywRdAc9', 'Q3dHaYbJvJqADyO0',\n",
       "       'PlpohkhZ3mHRIFUw', 'ob3rJvNvmxEBUgrM', 's5gyDjeyG1xi4eeI',\n",
       "       'l4GKDRNpB5K0gYbl', 'LZXd9FJwCYRq64Hh', 'rpEHshcYbI4nTWzP',\n",
       "       'VxZ9ksJ2VFnjq3sQ', 'hUX2rxUzweCf1Q6s', '0X9aluHlz6iKWBMR',\n",
       "       'BV5aZd8ZACEwaMyi', 'uWmyuAJfXZo8eQ1s', '3AFJhhbI2bMOuY9r',\n",
       "       'OKtdWyDbmVm4DhBW', 'NlIkh6a07aJUvtzd', 'Ms7tvtmnfNd6gKFi',\n",
       "       '4LgU0HMsp3HcCiCp', 'EHMaLL1Vwb0kR5cw', 'pKa8tqv3wZORbVeF',\n",
       "       'fQWO6a4zWkiLY1ro', '6K739ar0q9MBMhKW', '1nSrGnJs0OYiWzMz',\n",
       "       'C6fiS8F49bg4R1lt', 'wJMkULHKN2HXWp8i', 'saAcYC2iMvu04kT0',\n",
       "       '97drm5mZVuk1HdEF', 'axdv4kGugNPl0G69', 'oEhjdkACO0hfpjEQ',\n",
       "       'WmUu4mwQ1L184aBX', '4cs3JsHc4XXOOStS', 'H79ygWVEZeWVQ4Q3',\n",
       "       'EBb5841uztwLoSny', 'kyNfhbfuey0CitFc', 'kivPgyn3PRDDWo1q',\n",
       "       'aw53inzwp9aCznmj', '2BoYZNn3FcGkahSJ', 'Ivo533TRW0wOSCVa',\n",
       "       '7kY3WMJTP9n4NOT8', 'oKBXWPXiUZsd28UG', 'baKDbFJiVbPtw3aN',\n",
       "       'uRR5Gf0ZgkK1IcTk', 'njGBA6t0wrejlsNq', 'v3G4RmK6sWxadFUo',\n",
       "       '1oR8P5hnjkbo83MI', 'AeUyZmBYFC2byRkU', '3GA88w078gQfLGTw',\n",
       "       '9m8gx0G9g6EPElnA', '0m5Q7XPXgBKh69Oo', 'MLiHPWT9keEd62vN',\n",
       "       'BoQfw8aGryILFvfN', 'Go5Fh2iARo70b1QA', 'uIQ4MNaJZO8n1tHc',\n",
       "       'dMs7t7npVoXB1GUW', 'AX5MxFnVCODyynhb', 'yGXRgQcRNP7eGt6N',\n",
       "       'bRJaBsfr7c4oppuH', 'oBiOfx4Y6I2tQxgL', 'SEwz7A3rZMIMQEem',\n",
       "       'fobb5Nay2c5gm8PM', 'GS9sA7w27UQ992Pm', 'wb8pOkg5iBJzpwMn',\n",
       "       'IssS4hoy5jr8BVzG', 'Nk4Mw7TIPW5ALCLw', 'EmPJO7fTwQlTDjGG',\n",
       "       'w8CBBQTEtqcIW1sx', 'W425bs0VFkxiLtHE', '3vbtwqhpTpQXYKs5',\n",
       "       '6wCk8sJ9ZYfdAD6G', 'v2mNJPxVSKSBUZzN', '0q9fqlTcRnpJ1v7L',\n",
       "       'Jsv2kdlcbRm1RpE6', 'ECaM6wsYkapyVeKh', 'AglLawzIXRS4xp9R',\n",
       "       'HKjmGPUVgZ3kUqGp', 'HQsvfR4t0Bdt8PUa', 'D2tV669tfmq77UfB',\n",
       "       'HEGpy1yXZm6tqvt2', 'mqxzNwZnzP2N5h5Z', 'lS6K0SWtwlyvEMdz',\n",
       "       '5k57tBosExKBpp1K', 'mGgpJi5DgKSn3qKl', 'jTRYN4Jm2VybQ32q',\n",
       "       'AAqLm37GHgbH0QSH', 'W4fowDznFozv7Jdj', 'ro1iv7mzjR45Sawx',\n",
       "       '3CZ5zPURVWj5WQdy', 'z16bhDOOzS8Pymmy', 'LvlzAAXz5sDFmPos',\n",
       "       'rqp4klTiECS3oiQa', 'iC2CNcJrhBYhh1bF', 'X2VMLCbr5gQChLPI',\n",
       "       'iZ4D74P2YxTBETKR', 'aByqyu8ECMuUpzBI', '2qg53ARpb2Ifii3y',\n",
       "       'ogUIiy7p3mWtiMfy', 'xcRMLQyZmL7tnKoA', 'KZ9kS0treSXJfb1v',\n",
       "       'iJgrpJV2gwJ1fgAf', '2ln9uBuZQ9VFslZv', 'VnMp7cF6Gh0kXLxU',\n",
       "       'GhdC74O0kthfy8oJ', 'h22S1JLaI5GwRXV6', 'DJhPdDLNNAnyhS4n',\n",
       "       '6i2LAwAiM9z0IfwZ', 'dfBhdRnUwsv7YInK', 'ntBgQU08iFoVyAns',\n",
       "       'jVZ0vfMsYorbJi5k', 'TDF0Dv91vM48BDwR', 'Ykbd5ozxNPOAweC8',\n",
       "       'BOQXlVtWdcWmGGbK', 'COInmJRMmJo1pZiP', 'DxcEKWlTpJ8om9mE',\n",
       "       'ctD3DJ7DbLm1PSuz', 'WJ774zZB5nKT00aE', 'wT9Cxt59ywOI9XpR',\n",
       "       'qE32MiV9hGoJnfTh', 'V3d5SQQ3VUaNUNfy', 'NoxfuYvZWLCIkcFz',\n",
       "       '93bh0klE1bEWDqJT', 'BqOIA2ta0aa8EZT4', 'bvq2TUaETxgJpAMk',\n",
       "       '4QuT8rMf1hFY2GaS', 'niUYgqkjIOwLEtPb', 'nVLWvWpV6nx9yHYv',\n",
       "       '9wc8gfkLIfQKLHY7', 'OI4YbFD1grBAzfUu', 'oDsEn81LzmWsGVMt',\n",
       "       'QS8u9MxU0rt9ie6C', 'H6lNCiBOn87PrO0g', 'IjBnwdiRB5kWOihb',\n",
       "       'obDw2LasHNPFXmzS', 'u003odDnovAQFzNM', 'd1atrTkB13ChozEK',\n",
       "       'Pocetc7AP7RYKjDA', 'KXzYKGyr9L43mo28', 'Ux86pEvj9mzN0swn',\n",
       "       'ZuTWXlJ8W1S89gJP', 'oX7Kh6Ypz49zjpym', 'BcdR78dWpNkAtQQo',\n",
       "       '15hcBfdPhrtLVay2', 'EWuwnlfNUZaBiZTx', 'EnK1FTcL4DN21Wll',\n",
       "       'EIn5ZAfhdjg4SsYE', 'DjQ6zx0CaO03tqru', 'b20eQlRIRgLJACMv',\n",
       "       'Dv3U2Um0kXaK2KT7', '9kA5LV8gJZ89jfkE', 'wLRwRdhNI53BOkdi',\n",
       "       'fvzY17AKxIi2axVn', 'XdMnUITZo8RlvxrY', '99dj3tIkzZI99M4B',\n",
       "       '0aYVkGti0ZkFpZge', 'JejAEYdk9Rf4ZJ3m', 'Pf7CTDMAqnLhbcY2',\n",
       "       'KKmk2QJLVj2Aqsjg', '7Gsb7yKtAJNCvWez', '3shrACNQQ5eeQEAO',\n",
       "       '8LgQbYbM6Vz2my0y', '94ZnZpGPvcS2E81V', '6YdzDwnoQ34wZoyv',\n",
       "       'xMkeAOwn6AzEeYGh', '32m5suoC94ytD8Ed', 'vkOg9ZAiUgUT87k6',\n",
       "       'YwURIu6eZDCJyuEf', 'punIhlBkwM0vB9oy', 'FS2f3ubSCSZfY23P',\n",
       "       'Va8v4si2MqjdL3fB', 'te4ESvlYo17P6ipq', 'y2m773wMLRnJ3u6p',\n",
       "       'kr9ddR83Ev4e9DaE', 'Q3K4hbdhBpTcJDwT', 'qskLpgPUMtDcofYe',\n",
       "       's1Lnqu2iDAFyR6sf', 'cE8gI8jnXeccDmpy', 'wXWIwDN7IKl9sT17',\n",
       "       'o3GS8huuGvfUjCyZ', 'pfESHBxUkqmeV2s4', 'ZcqniN7ra0KqXaxq',\n",
       "       'jOBVervIyVoGtJ9y', 'NZ8NEcvp4ALSreyk', 'QUvkwFINaTQZdb77',\n",
       "       'hUstBnWHRzRzFa25', 'icAEp5xdMbxTbgqB', 'Y5nUEU3P9JaNb2d0',\n",
       "       'mokkHmNUUHUlx9Bi', '9EdjT3tfTfcfq2NM', 'U7vZRy9ULsBz4WKH',\n",
       "       '9UXJY75NJUJBsKPV', 'pPuCZs1JajkmR2NQ', 'tRqLe5icZaYj2y5q',\n",
       "       '6c5RMNmIY37Qi0M2', '4puXd1Aq8WnEmVoJ', '3Qp7MSnoU70Q7Nc4',\n",
       "       '0l74rMivq4JRIW5W', 'IykGLg8bZrclK4jN', 'ap216ASm6vEIVgiJ',\n",
       "       'kaTWQ3nrtosEWVFl'], dtype=object)"
      ]
     },
     "execution_count": 88,
     "metadata": {},
     "output_type": "execute_result"
    }
   ],
   "source": [
    "df[df.user_id == specific_user_id].song.unique()"
   ]
  },
  {
   "cell_type": "code",
   "execution_count": 90,
   "id": "b2ea8f61",
   "metadata": {},
   "outputs": [
    {
     "data": {
      "text/html": [
       "<div>\n",
       "<style scoped>\n",
       "    .dataframe tbody tr th:only-of-type {\n",
       "        vertical-align: middle;\n",
       "    }\n",
       "\n",
       "    .dataframe tbody tr th {\n",
       "        vertical-align: top;\n",
       "    }\n",
       "\n",
       "    .dataframe thead th {\n",
       "        text-align: right;\n",
       "    }\n",
       "</style>\n",
       "<table border=\"1\" class=\"dataframe\">\n",
       "  <thead>\n",
       "    <tr style=\"text-align: right;\">\n",
       "      <th></th>\n",
       "      <th>id</th>\n",
       "      <th>artist</th>\n",
       "      <th>song</th>\n",
       "      <th>album_name</th>\n",
       "    </tr>\n",
       "  </thead>\n",
       "  <tbody>\n",
       "    <tr>\n",
       "      <th>17155</th>\n",
       "      <td>9kA5LV8gJZ89jfkE</td>\n",
       "      <td>Angèle</td>\n",
       "      <td>Ta Reine</td>\n",
       "      <td>Brol</td>\n",
       "    </tr>\n",
       "  </tbody>\n",
       "</table>\n",
       "</div>"
      ],
      "text/plain": [
       "                     id  artist      song album_name\n",
       "17155  9kA5LV8gJZ89jfkE  Angèle  Ta Reine       Brol"
      ]
     },
     "execution_count": 90,
     "metadata": {},
     "output_type": "execute_result"
    }
   ],
   "source": [
    "id_information[id_information.id == '9kA5LV8gJZ89jfkE']"
   ]
  },
  {
   "cell_type": "code",
   "execution_count": null,
   "id": "bef6da35",
   "metadata": {},
   "outputs": [],
   "source": []
  }
 ],
 "metadata": {
  "kernelspec": {
   "display_name": "Python 3 (ipykernel)",
   "language": "python",
   "name": "python3"
  },
  "language_info": {
   "codemirror_mode": {
    "name": "ipython",
    "version": 3
   },
   "file_extension": ".py",
   "mimetype": "text/x-python",
   "name": "python",
   "nbconvert_exporter": "python",
   "pygments_lexer": "ipython3",
   "version": "3.9.13"
  }
 },
 "nbformat": 4,
 "nbformat_minor": 5
}
