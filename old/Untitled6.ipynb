{
 "cells": [
  {
   "cell_type": "code",
   "execution_count": 1,
   "id": "4c943bf4",
   "metadata": {},
   "outputs": [],
   "source": [
    "import pandas as pd\n",
    "import numpy as np\n",
    "from sklearn.model_selection import train_test_split\n",
    "from sklearn.preprocessing import LabelEncoder, MinMaxScaler\n",
    "from tensorflow.keras.models import Model\n",
    "from tensorflow.keras.layers import Input, Embedding, LSTM, Dense, Dropout, concatenate\n",
    "from tensorflow.keras.optimizers import Adam"
   ]
  },
  {
   "cell_type": "code",
   "execution_count": 21,
   "id": "1ff94cd3",
   "metadata": {},
   "outputs": [],
   "source": [
    "# Load data\n",
    "metadata_path = '../data/id_metadata.csv'\n",
    "listening_history_path = '../data/listening_history.csv'\n",
    "metadata_df = pd.read_csv(metadata_path, delimiter='\\t')\n",
    "listening_history_df = pd.read_csv(listening_history_path, delimiter='\\t')"
   ]
  },
  {
   "cell_type": "code",
   "execution_count": 22,
   "id": "6febded6",
   "metadata": {
    "scrolled": false
   },
   "outputs": [
    {
     "data": {
      "text/html": [
       "<div>\n",
       "<style scoped>\n",
       "    .dataframe tbody tr th:only-of-type {\n",
       "        vertical-align: middle;\n",
       "    }\n",
       "\n",
       "    .dataframe tbody tr th {\n",
       "        vertical-align: top;\n",
       "    }\n",
       "\n",
       "    .dataframe thead th {\n",
       "        text-align: right;\n",
       "    }\n",
       "</style>\n",
       "<table border=\"1\" class=\"dataframe\">\n",
       "  <thead>\n",
       "    <tr style=\"text-align: right;\">\n",
       "      <th></th>\n",
       "      <th>user</th>\n",
       "      <th>song</th>\n",
       "      <th>timestamp</th>\n",
       "    </tr>\n",
       "  </thead>\n",
       "  <tbody>\n",
       "    <tr>\n",
       "      <th>0</th>\n",
       "      <td>user_007XIjOr</td>\n",
       "      <td>DaTQ53TUmfP93FSr</td>\n",
       "      <td>2019-02-20 12:28</td>\n",
       "    </tr>\n",
       "    <tr>\n",
       "      <th>1</th>\n",
       "      <td>user_007XIjOr</td>\n",
       "      <td>dGeyvi5WCOjDU7da</td>\n",
       "      <td>2019-02-20 12:35</td>\n",
       "    </tr>\n",
       "    <tr>\n",
       "      <th>2</th>\n",
       "      <td>user_007XIjOr</td>\n",
       "      <td>qUm54NYOjeFhmKYx</td>\n",
       "      <td>2019-02-20 12:48</td>\n",
       "    </tr>\n",
       "    <tr>\n",
       "      <th>3</th>\n",
       "      <td>user_007XIjOr</td>\n",
       "      <td>FtnuMT1DlevSR2n5</td>\n",
       "      <td>2019-02-20 12:52</td>\n",
       "    </tr>\n",
       "    <tr>\n",
       "      <th>4</th>\n",
       "      <td>user_007XIjOr</td>\n",
       "      <td>LHETTZcSZLeaVOGh</td>\n",
       "      <td>2019-02-20 13:09</td>\n",
       "    </tr>\n",
       "    <tr>\n",
       "      <th>...</th>\n",
       "      <td>...</td>\n",
       "      <td>...</td>\n",
       "      <td>...</td>\n",
       "    </tr>\n",
       "    <tr>\n",
       "      <th>5109587</th>\n",
       "      <td>user_zzWscYTy</td>\n",
       "      <td>BBiswLufo26YQCT7</td>\n",
       "      <td>2019-01-10 15:57</td>\n",
       "    </tr>\n",
       "    <tr>\n",
       "      <th>5109588</th>\n",
       "      <td>user_zzWscYTy</td>\n",
       "      <td>5ZHgff3sjETIiedr</td>\n",
       "      <td>2019-01-10 16:21</td>\n",
       "    </tr>\n",
       "    <tr>\n",
       "      <th>5109589</th>\n",
       "      <td>user_zzWscYTy</td>\n",
       "      <td>m4O1iLh6fC43xjRy</td>\n",
       "      <td>2019-01-10 16:48</td>\n",
       "    </tr>\n",
       "    <tr>\n",
       "      <th>5109590</th>\n",
       "      <td>user_zzWscYTy</td>\n",
       "      <td>mvUaP8k67qOFfA65</td>\n",
       "      <td>2019-01-10 21:13</td>\n",
       "    </tr>\n",
       "    <tr>\n",
       "      <th>5109591</th>\n",
       "      <td>user_zzWscYTy</td>\n",
       "      <td>BBiswLufo26YQCT7</td>\n",
       "      <td>2019-01-10 21:16</td>\n",
       "    </tr>\n",
       "  </tbody>\n",
       "</table>\n",
       "<p>5109592 rows × 3 columns</p>\n",
       "</div>"
      ],
      "text/plain": [
       "                  user              song         timestamp\n",
       "0        user_007XIjOr  DaTQ53TUmfP93FSr  2019-02-20 12:28\n",
       "1        user_007XIjOr  dGeyvi5WCOjDU7da  2019-02-20 12:35\n",
       "2        user_007XIjOr  qUm54NYOjeFhmKYx  2019-02-20 12:48\n",
       "3        user_007XIjOr  FtnuMT1DlevSR2n5  2019-02-20 12:52\n",
       "4        user_007XIjOr  LHETTZcSZLeaVOGh  2019-02-20 13:09\n",
       "...                ...               ...               ...\n",
       "5109587  user_zzWscYTy  BBiswLufo26YQCT7  2019-01-10 15:57\n",
       "5109588  user_zzWscYTy  5ZHgff3sjETIiedr  2019-01-10 16:21\n",
       "5109589  user_zzWscYTy  m4O1iLh6fC43xjRy  2019-01-10 16:48\n",
       "5109590  user_zzWscYTy  mvUaP8k67qOFfA65  2019-01-10 21:13\n",
       "5109591  user_zzWscYTy  BBiswLufo26YQCT7  2019-01-10 21:16\n",
       "\n",
       "[5109592 rows x 3 columns]"
      ]
     },
     "execution_count": 22,
     "metadata": {},
     "output_type": "execute_result"
    }
   ],
   "source": [
    "listening_history_df "
   ]
  },
  {
   "cell_type": "code",
   "execution_count": 4,
   "id": "84f75366",
   "metadata": {},
   "outputs": [],
   "source": [
    "\n",
    "# Preprocessing\n",
    "listening_history_df['timestamp'] = pd.to_datetime(listening_history_df['timestamp'])\n",
    "listening_history_df.sort_values(by=['user', 'timestamp'], inplace=True)\n",
    "user_encoder = LabelEncoder()\n",
    "song_encoder = LabelEncoder()\n",
    "listening_history_df['user_id'] = user_encoder.fit_transform(listening_history_df['user'])\n",
    "listening_history_df['song_id'] = song_encoder.fit_transform(listening_history_df['song'])"
   ]
  },
  {
   "cell_type": "code",
   "execution_count": 5,
   "id": "772fee3a",
   "metadata": {},
   "outputs": [],
   "source": [
    "# Classify time of day\n",
    "def classify_time_of_day(timestamp):\n",
    "    hour = timestamp.hour\n",
    "    if 4 <= hour < 12:\n",
    "        return 1\n",
    "    elif 12 <= hour < 20:\n",
    "        return 2\n",
    "    else:\n",
    "        return 3"
   ]
  },
  {
   "cell_type": "code",
   "execution_count": 6,
   "id": "1ce39496",
   "metadata": {},
   "outputs": [],
   "source": [
    "listening_history_df['time_of_day'] = listening_history_df['timestamp'].apply(classify_time_of_day)"
   ]
  },
  {
   "cell_type": "code",
   "execution_count": 7,
   "id": "45d98f8a",
   "metadata": {},
   "outputs": [],
   "source": [
    "# Scale metadata features\n",
    "features_to_scale = ['popularity', 'release', 'danceability', 'energy', 'key', 'mode', 'valence', 'tempo', 'duration_ms']\n",
    "scaler = MinMaxScaler()\n",
    "metadata_df.set_index('id', inplace=True)\n",
    "metadata_df[features_to_scale] = scaler.fit_transform(metadata_df[features_to_scale])\n"
   ]
  },
  {
   "cell_type": "code",
   "execution_count": 8,
   "id": "a18f6041",
   "metadata": {},
   "outputs": [],
   "source": [
    "# Get song metadata\n",
    "def get_song_metadata(song_id):\n",
    "    if song_id in metadata_df.index:\n",
    "        metadata = metadata_df.loc[song_id, features_to_scale]\n",
    "        return metadata.values\n",
    "    else:\n",
    "        return np.zeros(len(features_to_scale))"
   ]
  },
  {
   "cell_type": "code",
   "execution_count": 9,
   "id": "4364758e",
   "metadata": {},
   "outputs": [],
   "source": [
    "# Generate sequences and labels\n",
    "sequence_length = 10\n",
    "song_sequences = []\n",
    "next_song_labels = []\n",
    "metadata_sequences = []\n",
    "\n",
    "for user in listening_history_df['user_id'].unique():\n",
    "    user_df = listening_history_df[listening_history_df['user_id'] == user]\n",
    "    user_songs = user_df['song_id'].tolist()\n",
    "\n",
    "    for i in range(len(user_songs) - sequence_length):\n",
    "        song_sequence = user_songs[i:i + sequence_length]\n",
    "        next_song = user_songs[i + sequence_length]\n",
    "        metadata_sequence = [get_song_metadata(song) for song in song_sequence]\n",
    "\n",
    "        song_sequences.append(song_sequence)\n",
    "        next_song_labels.append(next_song)\n",
    "        metadata_sequences.append(metadata_sequence)"
   ]
  },
  {
   "cell_type": "code",
   "execution_count": 10,
   "id": "facfcafc",
   "metadata": {},
   "outputs": [],
   "source": [
    "# Prepare input arrays\n",
    "user_array = np.array([np.full(shape=(sequence_length,), fill_value=user_id) for user_id, _ in enumerate(song_sequences)])\n",
    "song_array = np.array(song_sequences)\n",
    "metadata_array = np.array(metadata_sequences)\n",
    "label_array = np.array(next_song_labels)\n",
    "\n",
    "# Updated number of unique users and songs\n",
    "num_users = listening_history_df['user_id'].nunique()\n",
    "num_songs = listening_history_df['song_id'].nunique()\n",
    "\n"
   ]
  },
  {
   "cell_type": "code",
   "execution_count": 11,
   "id": "08af02e3",
   "metadata": {},
   "outputs": [],
   "source": [
    "# Split data\n",
    "test_size = 0.2\n",
    "train_user_array, val_user_array, train_song_array, val_song_array, train_metadata_array, val_metadata_array, train_label_array, val_label_array = train_test_split(\n",
    "    user_array, song_array, metadata_array, label_array, test_size=test_size, random_state=42)"
   ]
  },
  {
   "cell_type": "code",
   "execution_count": 12,
   "id": "c03a0d03",
   "metadata": {},
   "outputs": [
    {
     "name": "stdout",
     "output_type": "stream",
     "text": [
      "Max user ID in training set: 9729\n",
      "Max song ID in training set: 4357\n"
     ]
    }
   ],
   "source": [
    "print(\"Max user ID in training set:\", np.max(train_user_array))\n",
    "print(\"Max song ID in training set:\", np.max(train_song_array))"
   ]
  },
  {
   "cell_type": "code",
   "execution_count": 16,
   "id": "e0d6c121",
   "metadata": {},
   "outputs": [
    {
     "name": "stdout",
     "output_type": "stream",
     "text": [
      "Model: \"model_1\"\n",
      "__________________________________________________________________________________________________\n",
      " Layer (type)                   Output Shape         Param #     Connected to                     \n",
      "==================================================================================================\n",
      " user_input (InputLayer)        [(None, 10)]         0           []                               \n",
      "                                                                                                  \n",
      " song_input (InputLayer)        [(None, 10)]         0           []                               \n",
      "                                                                                                  \n",
      " embedding_2 (Embedding)        (None, 10, 50)       486500      ['user_input[0][0]']             \n",
      "                                                                                                  \n",
      " embedding_3 (Embedding)        (None, 10, 50)       217900      ['song_input[0][0]']             \n",
      "                                                                                                  \n",
      " metadata_input (InputLayer)    [(None, 10, 9)]      0           []                               \n",
      "                                                                                                  \n",
      " concatenate_1 (Concatenate)    (None, 10, 109)      0           ['embedding_2[0][0]',            \n",
      "                                                                  'embedding_3[0][0]',            \n",
      "                                                                  'metadata_input[0][0]']         \n",
      "                                                                                                  \n",
      " lstm_1 (LSTM)                  (None, 128)          121856      ['concatenate_1[0][0]']          \n",
      "                                                                                                  \n",
      " dense_2 (Dense)                (None, 64)           8256        ['lstm_1[0][0]']                 \n",
      "                                                                                                  \n",
      " dense_3 (Dense)                (None, 64)           4160        ['dense_2[0][0]']                \n",
      "                                                                                                  \n",
      " dense_4 (Dense)                (None, 64)           4160        ['dense_3[0][0]']                \n",
      "                                                                                                  \n",
      " dense_5 (Dense)                (None, 64)           4160        ['dense_4[0][0]']                \n",
      "                                                                                                  \n",
      " dropout_1 (Dropout)            (None, 64)           0           ['dense_5[0][0]']                \n",
      "                                                                                                  \n",
      " dense_6 (Dense)                (None, 4358)         283270      ['dropout_1[0][0]']              \n",
      "                                                                                                  \n",
      "==================================================================================================\n",
      "Total params: 1,130,262\n",
      "Trainable params: 1,130,262\n",
      "Non-trainable params: 0\n",
      "__________________________________________________________________________________________________\n"
     ]
    }
   ],
   "source": [
    "# Model definition\n",
    "num_users = len(user_encoder.classes_)\n",
    "num_songs = len(song_encoder.classes_)\n",
    "metadata_dim = len(features_to_scale)\n",
    "\n",
    "user_input = Input(shape=(sequence_length,), name='user_input')\n",
    "# user_embedding = Embedding(num_users, 50, input_length=sequence_length)(user_input)\n",
    "\n",
    "song_input = Input(shape=(sequence_length,), name='song_input')\n",
    "# song_embedding = Embedding(num_songs, 50, input_length=sequence_length)(song_input)\n",
    "\n",
    "user_embedding = Embedding(input_dim=np.max(train_user_array)+1, output_dim=50, input_length=sequence_length)(user_input)\n",
    "song_embedding = Embedding(input_dim=np.max(train_song_array)+1, output_dim=50, input_length=sequence_length)(song_input)\n",
    "\n",
    "metadata_input = Input(shape=(sequence_length, metadata_dim), name='metadata_input')\n",
    "\n",
    "concatenated = concatenate([user_embedding, song_embedding, metadata_input])\n",
    "lstm_layer = LSTM(128, return_sequences=False)(concatenated)\n",
    "dense_layer = Dense(64, activation='relu')(lstm_layer)\n",
    "dense_layer1 = Dense(64, activation='relu')(dense_layer)\n",
    "dense_layer2 = Dense(64, activation='relu')(dense_layer1)\n",
    "dense_layer3 = Dense(64, activation='relu')(dense_layer2)\n",
    "dropout_layer = Dropout(0.2)(dense_layer3)\n",
    "output_layer = Dense(num_songs, activation='softmax')(dropout_layer)\n",
    "\n",
    "model = Model(inputs=[user_input, song_input, metadata_input], outputs=output_layer)\n",
    "model.compile(optimizer=Adam(), loss='sparse_categorical_crossentropy', metrics=['accuracy'])\n",
    "model.summary()"
   ]
  },
  {
   "cell_type": "code",
   "execution_count": 17,
   "id": "56641d64",
   "metadata": {
    "scrolled": false
   },
   "outputs": [
    {
     "name": "stdout",
     "output_type": "stream",
     "text": [
      "Epoch 1/20\n",
      "244/244 [==============================] - 5s 14ms/step - loss: 7.9113 - accuracy: 0.0089 - val_loss: 7.7227 - val_accuracy: 0.0123\n",
      "Epoch 2/20\n",
      "244/244 [==============================] - 3s 12ms/step - loss: 7.3818 - accuracy: 0.0092 - val_loss: 7.8368 - val_accuracy: 0.0134\n",
      "Epoch 3/20\n",
      "244/244 [==============================] - 3s 12ms/step - loss: 7.0411 - accuracy: 0.0101 - val_loss: 7.9846 - val_accuracy: 0.0062\n",
      "Epoch 4/20\n",
      "244/244 [==============================] - 3s 12ms/step - loss: 6.7638 - accuracy: 0.0132 - val_loss: 8.1630 - val_accuracy: 0.0144\n",
      "Epoch 5/20\n",
      "244/244 [==============================] - 3s 12ms/step - loss: 6.4969 - accuracy: 0.0215 - val_loss: 8.4500 - val_accuracy: 0.0128\n",
      "Epoch 6/20\n",
      "244/244 [==============================] - 3s 12ms/step - loss: 6.2118 - accuracy: 0.0301 - val_loss: 8.5217 - val_accuracy: 0.0185\n",
      "Epoch 7/20\n",
      "244/244 [==============================] - 3s 13ms/step - loss: 5.9566 - accuracy: 0.0383 - val_loss: 8.4183 - val_accuracy: 0.0170\n",
      "Epoch 8/20\n",
      "244/244 [==============================] - 3s 12ms/step - loss: 5.6878 - accuracy: 0.0502 - val_loss: 8.6770 - val_accuracy: 0.0164\n",
      "Epoch 9/20\n",
      "244/244 [==============================] - 3s 12ms/step - loss: 5.4496 - accuracy: 0.0588 - val_loss: 8.8022 - val_accuracy: 0.0175\n",
      "Epoch 10/20\n",
      "244/244 [==============================] - 3s 12ms/step - loss: 5.1987 - accuracy: 0.0727 - val_loss: 9.3263 - val_accuracy: 0.0195\n",
      "Epoch 11/20\n",
      "244/244 [==============================] - 3s 12ms/step - loss: 5.0042 - accuracy: 0.0889 - val_loss: 9.1134 - val_accuracy: 0.0108\n",
      "Epoch 12/20\n",
      "244/244 [==============================] - 3s 13ms/step - loss: 4.7914 - accuracy: 0.1055 - val_loss: 9.5516 - val_accuracy: 0.0092\n",
      "Epoch 13/20\n",
      "244/244 [==============================] - 3s 13ms/step - loss: 4.6156 - accuracy: 0.1158 - val_loss: 9.7318 - val_accuracy: 0.0118\n",
      "Epoch 14/20\n",
      "244/244 [==============================] - 3s 13ms/step - loss: 4.4274 - accuracy: 0.1341 - val_loss: 10.2729 - val_accuracy: 0.0108\n",
      "Epoch 15/20\n",
      "244/244 [==============================] - 3s 13ms/step - loss: 4.2340 - accuracy: 0.1628 - val_loss: 10.2682 - val_accuracy: 0.0128\n",
      "Epoch 16/20\n",
      "244/244 [==============================] - 3s 13ms/step - loss: 4.0683 - accuracy: 0.1739 - val_loss: 11.0845 - val_accuracy: 0.0092\n",
      "Epoch 17/20\n",
      "244/244 [==============================] - 3s 13ms/step - loss: 3.9253 - accuracy: 0.1894 - val_loss: 11.4492 - val_accuracy: 0.0092\n",
      "Epoch 18/20\n",
      "244/244 [==============================] - 3s 13ms/step - loss: 3.7715 - accuracy: 0.2058 - val_loss: 11.9764 - val_accuracy: 0.0164\n",
      "Epoch 19/20\n",
      "244/244 [==============================] - 3s 13ms/step - loss: 3.6545 - accuracy: 0.2215 - val_loss: 11.9345 - val_accuracy: 0.0072\n",
      "Epoch 20/20\n",
      "244/244 [==============================] - 3s 13ms/step - loss: 3.5082 - accuracy: 0.2410 - val_loss: 12.8153 - val_accuracy: 0.0057\n"
     ]
    },
    {
     "data": {
      "image/png": "[encoded data removed]",
      "text/plain": [
       "<Figure size 640x480 with 1 Axes>"
      ]
     },
     "metadata": {},
     "output_type": "display_data"
    },
    {
     "data": {
      "image/png": "[encoded data removed]",
      "text/plain": [
       "<Figure size 640x480 with 1 Axes>"
      ]
     },
     "metadata": {},
     "output_type": "display_data"
    }
   ],
   "source": [
    "# Model training\n",
    "epochs = 20\n",
    "batch_size = 32\n",
    "\n",
    "history = model.fit(\n",
    "    [train_user_array, train_song_array, train_metadata_array],\n",
    "    train_label_array,\n",
    "    validation_data=(\n",
    "        [val_user_array, val_song_array, val_metadata_array],\n",
    "        val_label_array\n",
    "    ),\n",
    "    epochs=epochs,\n",
    "    batch_size=batch_size\n",
    ")\n",
    "\n",
    "import matplotlib.pyplot as plt\n",
    "\n",
    "plt.plot(history.history['accuracy'])\n",
    "plt.plot(history.history['val_accuracy'])\n",
    "plt.title('Model accuracy')\n",
    "plt.ylabel('Accuracy')\n",
    "plt.xlabel('Epoch')\n",
    "plt.legend(['Train', 'Validation'], loc='upper left')\n",
    "plt.show()\n",
    "\n",
    "plt.plot(history.history['loss'])\n",
    "plt.plot(history.history['val_loss'])\n",
    "plt.title('Model loss')\n",
    "plt.ylabel('Loss')\n",
    "plt.xlabel('Epoch')\n",
    "plt.legend(['Train', 'Validation'], loc='upper left')\n",
    "plt.show()"
   ]
  },
  {
   "cell_type": "code",
   "execution_count": null,
   "id": "8df1a583",
   "metadata": {},
   "outputs": [],
   "source": []
  }
 ],
 "metadata": {
  "kernelspec": {
   "display_name": "Python 3 (ipykernel)",
   "language": "python",
   "name": "python3"
  },
  "language_info": {
   "codemirror_mode": {
    "name": "ipython",
    "version": 3
   },
   "file_extension": ".py",
   "mimetype": "text/x-python",
   "name": "python",
   "nbconvert_exporter": "python",
   "pygments_lexer": "ipython3",
   "version": "3.9.13"
  }
 },
 "nbformat": 4,
 "nbformat_minor": 5
}
