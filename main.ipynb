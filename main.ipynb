{
 "cells": [
  {
   "cell_type": "code",
   "execution_count": 2,
   "outputs": [],
   "source": [
    "import pandas as pd\n",
    "import numpy as np\n",
    "from keras.models import Sequential\n",
    "from keras.layers import Dense, Dropout, Embedding, LSTM, Conv1D, MaxPooling1D, Flatten\n",
    "from keras.callbacks import EarlyStopping, ModelCheckpoint, TensorBoard\n",
    "from keras.utils import np_utils\n",
    "import matplotlib.pyplot as plt\n",
    "import keras"
   ],
   "metadata": {
    "collapsed": false
   }
  },
  {
   "cell_type": "code",
   "execution_count": 16,
   "metadata": {
    "collapsed": true
   },
   "outputs": [],
   "source": [
    "df = pd.read_csv('data/listening_history.csv', sep='\\t')"
   ]
  },
  {
   "cell_type": "code",
   "execution_count": 26,
   "outputs": [
    {
     "data": {
      "text/plain": "Index(['user', 'song', 'timestamp'], dtype='object')"
     },
     "execution_count": 26,
     "metadata": {},
     "output_type": "execute_result"
    }
   ],
   "source": [
    "df.columns"
   ],
   "metadata": {
    "collapsed": false
   }
  },
  {
   "cell_type": "code",
   "execution_count": 28,
   "outputs": [
    {
     "data": {
      "text/plain": "                 user              song         timestamp\ncount         5109592           5109592           5109592\nunique          14127             99596            122340\ntop     user_N9OKtRH0  32m5suoC94ytD8Ed  2019-02-08 20:35\nfreq              500             82871               175",
      "text/html": "<div>\n<style scoped>\n    .dataframe tbody tr th:only-of-type {\n        vertical-align: middle;\n    }\n\n    .dataframe tbody tr th {\n        vertical-align: top;\n    }\n\n    .dataframe thead th {\n        text-align: right;\n    }\n</style>\n<table border=\"1\" class=\"dataframe\">\n  <thead>\n    <tr style=\"text-align: right;\">\n      <th></th>\n      <th>user</th>\n      <th>song</th>\n      <th>timestamp</th>\n    </tr>\n  </thead>\n  <tbody>\n    <tr>\n      <th>count</th>\n      <td>5109592</td>\n      <td>5109592</td>\n      <td>5109592</td>\n    </tr>\n    <tr>\n      <th>unique</th>\n      <td>14127</td>\n      <td>99596</td>\n      <td>122340</td>\n    </tr>\n    <tr>\n      <th>top</th>\n      <td>user_N9OKtRH0</td>\n      <td>32m5suoC94ytD8Ed</td>\n      <td>2019-02-08 20:35</td>\n    </tr>\n    <tr>\n      <th>freq</th>\n      <td>500</td>\n      <td>82871</td>\n      <td>175</td>\n    </tr>\n  </tbody>\n</table>\n</div>"
     },
     "execution_count": 28,
     "metadata": {},
     "output_type": "execute_result"
    }
   ],
   "source": [
    "df.describe()"
   ],
   "metadata": {
    "collapsed": false
   }
  },
  {
   "cell_type": "code",
   "execution_count": 27,
   "outputs": [
    {
     "data": {
      "text/plain": "<bound method DataFrame.info of                   user              song         timestamp\n0        user_007XIjOr  DaTQ53TUmfP93FSr  2019-02-20 12:28\n1        user_007XIjOr  dGeyvi5WCOjDU7da  2019-02-20 12:35\n2        user_007XIjOr  qUm54NYOjeFhmKYx  2019-02-20 12:48\n3        user_007XIjOr  FtnuMT1DlevSR2n5  2019-02-20 12:52\n4        user_007XIjOr  LHETTZcSZLeaVOGh  2019-02-20 13:09\n...                ...               ...               ...\n5109587  user_zzWscYTy  BBiswLufo26YQCT7  2019-01-10 15:57\n5109588  user_zzWscYTy  5ZHgff3sjETIiedr  2019-01-10 16:21\n5109589  user_zzWscYTy  m4O1iLh6fC43xjRy  2019-01-10 16:48\n5109590  user_zzWscYTy  mvUaP8k67qOFfA65  2019-01-10 21:13\n5109591  user_zzWscYTy  BBiswLufo26YQCT7  2019-01-10 21:16\n\n[5109592 rows x 3 columns]>"
     },
     "execution_count": 27,
     "metadata": {},
     "output_type": "execute_result"
    }
   ],
   "source": [
    "df.info"
   ],
   "metadata": {
    "collapsed": false
   }
  },
  {
   "cell_type": "markdown",
   "source": [
    "Count of unique users in table"
   ],
   "metadata": {
    "collapsed": false
   }
  },
  {
   "cell_type": "code",
   "execution_count": 24,
   "outputs": [
    {
     "data": {
      "text/plain": "14127"
     },
     "execution_count": 24,
     "metadata": {},
     "output_type": "execute_result"
    }
   ],
   "source": [
    "df.user.nunique()"
   ],
   "metadata": {
    "collapsed": false
   }
  },
  {
   "cell_type": "markdown",
   "source": [
    "Count of unique songs in table"
   ],
   "metadata": {
    "collapsed": false
   }
  },
  {
   "cell_type": "code",
   "execution_count": 25,
   "outputs": [
    {
     "data": {
      "text/plain": "99596"
     },
     "execution_count": 25,
     "metadata": {},
     "output_type": "execute_result"
    }
   ],
   "source": [
    "df.song.nunique()"
   ],
   "metadata": {
    "collapsed": false
   }
  },
  {
   "cell_type": "code",
   "execution_count": null,
   "outputs": [],
   "source": [],
   "metadata": {
    "collapsed": false
   }
  }
 ],
 "metadata": {
  "kernelspec": {
   "display_name": "Python 3",
   "language": "python",
   "name": "python3"
  },
  "language_info": {
   "codemirror_mode": {
    "name": "ipython",
    "version": 2
   },
   "file_extension": ".py",
   "mimetype": "text/x-python",
   "name": "python",
   "nbconvert_exporter": "python",
   "pygments_lexer": "ipython2",
   "version": "2.7.6"
  }
 },
 "nbformat": 4,
 "nbformat_minor": 0
}
